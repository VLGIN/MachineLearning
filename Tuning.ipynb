{
  "nbformat": 4,
  "nbformat_minor": 0,
  "metadata": {
    "accelerator": "GPU",
    "colab": {
      "name": "Tuning.ipynb",
      "provenance": []
    },
    "kernelspec": {
      "display_name": "Python 3",
      "name": "python3"
    },
    "language_info": {
      "name": "python"
    }
  },
  "cells": [
    {
      "cell_type": "code",
      "metadata": {
        "id": "t5xMsjDCXjyu"
      },
      "source": [
        "from google.colab import drive\n",
        "drive.mount('/content/drive')"
      ],
      "execution_count": null,
      "outputs": []
    },
    {
      "cell_type": "code",
      "metadata": {
        "id": "nRD2smOgDZyn"
      },
      "source": [
        "import pandas as pd \n",
        "import seaborn as sns \n",
        "from xgboost.sklearn import XGBClassifier\n",
        "import numpy as np\n",
        "import math\n",
        "from sklearn.metrics import accuracy_score\n",
        "from matplotlib import pyplot as plt "
      ],
      "execution_count": null,
      "outputs": []
    },
    {
      "cell_type": "code",
      "metadata": {
        "colab": {
          "base_uri": "https://localhost:8080/"
        },
        "id": "O-hu6VOsZK3d",
        "outputId": "c715f622-19e6-403d-bd1e-9edb431c8b44"
      },
      "source": [
        "import os \n",
        "os.environ[\"KAGGLE_USERNAME\"]=\"daominhkhanh\"\n",
        "os.environ[\"KAGGLE_KEY\"]=\"90e6f266906e9dcfeae1afea9a0630ac\"\n",
        "!kaggle competitions download -c airbnb-recruiting-new-user-bookings"
      ],
      "execution_count": null,
      "outputs": [
        {
          "output_type": "stream",
          "text": [
            "Warning: Looks like you're using an outdated API Version, please consider updating (server 1.5.12 / client 1.5.4)\n",
            "Downloading sessions.csv.zip to /content\n",
            " 56% 33.0M/59.1M [00:00<00:00, 130MB/s]\n",
            "100% 59.1M/59.1M [00:00<00:00, 149MB/s]\n",
            "Downloading sample_submission_NDF.csv.zip to /content\n",
            "  0% 0.00/478k [00:00<?, ?B/s]\n",
            "100% 478k/478k [00:00<00:00, 139MB/s]\n",
            "Downloading test_users.csv.zip to /content\n",
            "  0% 0.00/1.03M [00:00<?, ?B/s]\n",
            "100% 1.03M/1.03M [00:00<00:00, 147MB/s]\n",
            "Downloading countries.csv.zip to /content\n",
            "  0% 0.00/546 [00:00<?, ?B/s]\n",
            "100% 546/546 [00:00<00:00, 306kB/s]\n",
            "Downloading age_gender_bkts.csv.zip to /content\n",
            "  0% 0.00/2.46k [00:00<?, ?B/s]\n",
            "100% 2.46k/2.46k [00:00<00:00, 2.17MB/s]\n",
            "Downloading train_users_2.csv.zip to /content\n",
            "  0% 0.00/4.07M [00:00<?, ?B/s]\n",
            "100% 4.07M/4.07M [00:00<00:00, 135MB/s]\n"
          ],
          "name": "stdout"
        }
      ]
    },
    {
      "cell_type": "code",
      "metadata": {
        "id": "UMcXFBNBDdLB"
      },
      "source": [
        "train1=pd.read_csv('train_avg_age.csv')\n",
        "test1=pd.read_csv('test_avg_age.csv')\n",
        "val1=pd.read_csv('val_avg_age.csv')"
      ],
      "execution_count": null,
      "outputs": []
    },
    {
      "cell_type": "code",
      "metadata": {
        "colab": {
          "base_uri": "https://localhost:8080/",
          "height": 355
        },
        "id": "Gzq9Bpj8lyE2",
        "outputId": "1c40d7a5-861f-4e6a-dedc-9cebd1af3737"
      },
      "source": [
        "sns.countplot(val1.country_destination)"
      ],
      "execution_count": null,
      "outputs": [
        {
          "output_type": "stream",
          "text": [
            "/usr/local/lib/python3.7/dist-packages/seaborn/_decorators.py:43: FutureWarning: Pass the following variable as a keyword arg: x. From version 0.12, the only valid positional argument will be `data`, and passing other arguments without an explicit keyword will result in an error or misinterpretation.\n",
            "  FutureWarning\n"
          ],
          "name": "stderr"
        },
        {
          "output_type": "execute_result",
          "data": {
            "text/plain": [
              "<matplotlib.axes._subplots.AxesSubplot at 0x7fe855703b10>"
            ]
          },
          "metadata": {
            "tags": []
          },
          "execution_count": 5
        },
        {
          "output_type": "display_data",
          "data": {
            "image/png": "[encoded data removed]",
            "text/plain": [
              "<Figure size 432x288 with 1 Axes>"
            ]
          },
          "metadata": {
            "tags": [],
            "needs_background": "light"
          }
        }
      ]
    },
    {
      "cell_type": "code",
      "metadata": {
        "id": "9lFE1-8hDdN6"
      },
      "source": [
        "train2=pd.read_csv('train_knn_age.csv')\n",
        "test2=pd.read_csv('test_knn_age.csv')\n",
        "val2=pd.read_csv('val_knn_age.csv')"
      ],
      "execution_count": null,
      "outputs": []
    },
    {
      "cell_type": "code",
      "metadata": {
        "id": "AiexysIuDdTj"
      },
      "source": [
        "def ndcg(index):\n",
        "  return 1/math.log2(index+2)\n",
        "\n",
        "def cal_ndcg(preds,labels):\n",
        "  size=len(labels)\n",
        "  ndcg_score=0\n",
        "  for i in range(size):\n",
        "    index=np.where(preds[i,:]==labels[i])[0]\n",
        "    if len(index)==0:\n",
        "      continue\n",
        "    index=index[0]\n",
        "    ndcg_score+=ndcg(index)\n",
        "  return ndcg_score/size"
      ],
      "execution_count": null,
      "outputs": []
    },
    {
      "cell_type": "code",
      "metadata": {
        "id": "9jzx3R9ODdWd"
      },
      "source": [
        "id_test=test1.id\n",
        "test1.drop('id',axis=1,inplace=True)\n",
        "test2.drop('id',axis=1,inplace=True)"
      ],
      "execution_count": null,
      "outputs": []
    },
    {
      "cell_type": "code",
      "metadata": {
        "id": "Cx_JsNsfDdaq"
      },
      "source": [
        "def get_value(data_train,data_test,data_val):\n",
        "  y_train=data_train.country_destination.values\n",
        "  y_val=data_val.country_destination.values\n",
        "  data_val.drop('country_destination',axis=1,inplace=True)\n",
        "  data_train.drop('country_destination',axis=1,inplace=True)\n",
        "  x_train=data_train.values\n",
        "  x_test=data_test.values\n",
        "  x_val=data_val.values\n",
        "  return x_train,y_train,x_val,y_val,x_test"
      ],
      "execution_count": null,
      "outputs": []
    },
    {
      "cell_type": "code",
      "metadata": {
        "id": "DIMFOGJXICXN"
      },
      "source": [
        "country={'AU': 3, 'CA': 9, 'DE': 2, 'ES': 8, 'FR': 6, 'GB': 7, 'IT': 1, 'NDF': 11, 'NL': 10, 'PT': 5, 'US': 4, 'other': 0}\n",
        "int_to_country={value:con for con,value in country.items()}"
      ],
      "execution_count": null,
      "outputs": []
    },
    {
      "cell_type": "code",
      "metadata": {
        "id": "oVfxYqGADdgF"
      },
      "source": [
        "x_train1,y_train1,x_val1,y_val1,x_test1=get_value(train1.copy(),test1.copy(),val1.copy())\n",
        "x_train2,y_train2,x_val2,y_val2,x_test2=get_value(train2.copy(),test2.copy(),val2.copy())"
      ],
      "execution_count": null,
      "outputs": []
    },
    {
      "cell_type": "markdown",
      "metadata": {
        "id": "eh5Jlg-iDvWW"
      },
      "source": [
        "# Tuning learning rate for xgboost"
      ]
    },
    {
      "cell_type": "code",
      "metadata": {
        "id": "vfnmtL9MDddC"
      },
      "source": [
        "lr=[0.005,0.01,0.05,0.1,0.15,0.2]\n",
        "n_estimators=[25,50,75,100,125]"
      ],
      "execution_count": null,
      "outputs": []
    },
    {
      "cell_type": "code",
      "metadata": {
        "id": "7qu2TSLnG9Nb"
      },
      "source": [
        "def submit(model,x_test,file_name):\n",
        "  ids=[]\n",
        "  cts=[]\n",
        "  y_preds=model.predict_proba(x_test)\n",
        "  for i in range(len(x_test)):\n",
        "    idx=id_test[i]\n",
        "    ids+=[idx]*5\n",
        "    temp=np.argsort(y_preds[i])[::-1][:5].tolist()\n",
        "    for value in temp:\n",
        "      cts.append(int_to_country[value])\n",
        "  sub=pd.DataFrame(np.column_stack((ids,cts)),columns=['id','country'])\n",
        "  sub.to_csv(file_name,index=False)"
      ],
      "execution_count": null,
      "outputs": []
    },
    {
      "cell_type": "code",
      "metadata": {
        "id": "Nzu2gYMMD2S9"
      },
      "source": [
        "def tuning_param(x_train,y_train,x_val,y_val,x_test,learn_rate,file_name):\n",
        "  xgb=XGBClassifier(max_depth=10,learning_rate=learn_rate,n_entimators=100,objective='multi:softprob',subsample=0.5,colsample_bytree=0.5,seed=43)\n",
        "  xgb.fit(x_train,y_train)\n",
        "  y_preds1=xgb.predict_proba(x_val)\n",
        "  preds_down=np.argsort(y_preds1,axis=1)[:,-5:]\n",
        "  preds_down=np.fliplr(preds_down)\n",
        "  score=cal_ndcg(preds_down,y_val)\n",
        "  submit(xgb,x_test,file_name+\"_lr_\"+str(learn_rate)+'.csv')\n",
        "  return score"
      ],
      "execution_count": null,
      "outputs": []
    },
    {
      "cell_type": "code",
      "metadata": {
        "id": "27Y4EG_gDdkI"
      },
      "source": [
        "def tuning(x_train,y_train,x_val,y_val,x_test,file_name):\n",
        "  scores_his=[]\n",
        "  for value in lr:\n",
        "    score=tuning_param(x_train,y_train,x_val,y_val,x_test,value,file_name)\n",
        "    scores_his.append(score)\n",
        "    print(score)\n",
        "    \n",
        "  plt.plot(lr,scores_his)\n",
        "  plt.xlabel('lr')\n",
        "  plt.ylabel('score')\n",
        "  plt.savefig(f'{file_name}.png')\n",
        "  plt.show()"
      ],
      "execution_count": null,
      "outputs": []
    },
    {
      "cell_type": "code",
      "metadata": {
        "colab": {
          "base_uri": "https://localhost:8080/",
          "height": 383
        },
        "id": "GHZrqJy6E9gu",
        "outputId": "36ae8f0a-7ed4-4289-c2db-7d20e85f8b69"
      },
      "source": [
        "tuning(x_train1,y_train1,x_val1,y_val1,x_test1,'avg')"
      ],
      "execution_count": null,
      "outputs": [
        {
          "output_type": "stream",
          "text": [
            "0.8232738249987241\n",
            "0.8251862205951613\n",
            "0.8283418920002229\n",
            "0.8278229305993968\n",
            "0.8271431257944282\n",
            "0.8256797083292625\n"
          ],
          "name": "stdout"
        },
        {
          "output_type": "display_data",
          "data": {
            "image/png": "[encoded data removed]",
            "text/plain": [
              "<Figure size 432x288 with 1 Axes>"
            ]
          },
          "metadata": {
            "tags": [],
            "needs_background": "light"
          }
        }
      ]
    },
    {
      "cell_type": "code",
      "metadata": {
        "colab": {
          "base_uri": "https://localhost:8080/",
          "height": 383
        },
        "id": "VD9tTwj0FJyW",
        "outputId": "f0913a93-7495-462d-b90d-a69cf0887dc4"
      },
      "source": [
        "tuning(x_train2,y_train2,x_val2,y_val2,x_test2,'knn')"
      ],
      "execution_count": null,
      "outputs": [
        {
          "output_type": "stream",
          "text": [
            "0.8188990363822678\n",
            "0.821217115172219\n",
            "0.8240916631648533\n",
            "0.8243537237978218\n",
            "0.8232612621806381\n",
            "0.8215124119681628\n"
          ],
          "name": "stdout"
        },
        {
          "output_type": "display_data",
          "data": {
            "image/png": "[encoded data removed]",
            "text/plain": [
              "<Figure size 432x288 with 1 Axes>"
            ]
          },
          "metadata": {
            "tags": [],
            "needs_background": "light"
          }
        }
      ]
    },
    {
      "cell_type": "code",
      "metadata": {
        "id": "1B_g3ROXnF5w"
      },
      "source": [
        "def tuning_param_es(x_train,y_train,x_val,y_val,x_test,n_es,file_name):\n",
        "  xgb=XGBClassifier(max_depth=10,learning_rate=0.05,n_entimators=n_es,objective='multi:softprob',subsample=0.5,colsample_bytree=0.5,seed=43)\n",
        "  xgb.fit(x_train,y_train)\n",
        "  y_preds1=xgb.predict_proba(x_val)\n",
        "  preds_down=np.argsort(y_preds1,axis=1)[:,-5:]\n",
        "  preds_down=np.fliplr(preds_down)\n",
        "  score=cal_ndcg(preds_down,y_val)\n",
        "  submit(xgb,x_test,file_name+\"_lr_\"+str(n_es)+'.csv')\n",
        "  return score"
      ],
      "execution_count": null,
      "outputs": []
    },
    {
      "cell_type": "code",
      "metadata": {
        "id": "eQ_RekVFnIAg"
      },
      "source": [
        "def tuning_es(x_train,y_train,x_val,y_val,x_test,file_name):\n",
        "  scores_his=[]\n",
        "  for value in n_estimators:\n",
        "    score=tuning_param_es(x_train,y_train,x_val,y_val,x_test,value,file_name)\n",
        "    scores_his.append(score)\n",
        "    print(score)\n",
        "\n",
        "  plt.plot(n_estimators,scores_his)\n",
        "  plt.xlabel('n_entimators')\n",
        "  plt.ylabel('score')\n",
        "  plt.savefig(f'{file_name}.png')\n",
        "  plt.show()"
      ],
      "execution_count": null,
      "outputs": []
    },
    {
      "cell_type": "code",
      "metadata": {
        "colab": {
          "base_uri": "https://localhost:8080/",
          "height": 367
        },
        "id": "2oUU6wmKnqJF",
        "outputId": "fcc5c9e4-9b98-4272-b119-0d5dbd05c15b"
      },
      "source": [
        "tuning_es(x_train1,y_train1,x_val1,y_val1,x_test1,'avg_es')"
      ],
      "execution_count": null,
      "outputs": [
        {
          "output_type": "stream",
          "text": [
            "0.8283418920002229\n",
            "0.8283418920002229\n",
            "0.8283418920002229\n",
            "0.8283418920002229\n",
            "0.8283418920002229\n"
          ],
          "name": "stdout"
        },
        {
          "output_type": "display_data",
          "data": {
            "image/png": "[encoded data removed]",
            "text/plain": [
              "<Figure size 432x288 with 1 Axes>"
            ]
          },
          "metadata": {
            "tags": [],
            "needs_background": "light"
          }
        }
      ]
    },
    {
      "cell_type": "code",
      "metadata": {
        "colab": {
          "base_uri": "https://localhost:8080/",
          "height": 367
        },
        "id": "OGpan1m9nhnr",
        "outputId": "b2c1a530-0893-4bc1-da11-a45a05544104"
      },
      "source": [
        "tuning_es(x_train2,y_train2,x_val2,y_val2,x_test2,'knn_es')"
      ],
      "execution_count": null,
      "outputs": [
        {
          "output_type": "stream",
          "text": [
            "0.8240916631648533\n",
            "0.8240916631648533\n",
            "0.8240916631648533\n",
            "0.8240916631648533\n",
            "0.8240916631648533\n"
          ],
          "name": "stdout"
        },
        {
          "output_type": "display_data",
          "data": {
            "image/png": "[encoded data removed]",
            "text/plain": [
              "<Figure size 432x288 with 1 Axes>"
            ]
          },
          "metadata": {
            "tags": [],
            "needs_background": "light"
          }
        }
      ]
    },
    {
      "cell_type": "code",
      "metadata": {
        "id": "9st6vOPUnn-y"
      },
      "source": [
        ""
      ],
      "execution_count": null,
      "outputs": []
    },
    {
      "cell_type": "markdown",
      "metadata": {
        "id": "bS0EAgW_Ht-5"
      },
      "source": [
        "# Neural Network"
      ]
    },
    {
      "cell_type": "code",
      "metadata": {
        "id": "VAIhf3c-TOiE"
      },
      "source": [
        "import torch \n",
        "from torch import nn \n",
        "from torch import optim"
      ],
      "execution_count": null,
      "outputs": []
    },
    {
      "cell_type": "code",
      "metadata": {
        "id": "tkwiHOtkHvgs"
      },
      "source": [
        "device=torch.device(\"cuda\" if torch.cuda.is_available() else \"cpu\")\n",
        "class NeuralNetwork(nn.Module):\n",
        "    def __init__(self):\n",
        "        super(NeuralNetwork, self).__init__()\n",
        "        self.linear_chain = nn.Sequential(\n",
        "            nn.Linear(13, 512),\n",
        "            nn.ReLU(),\n",
        "            nn.LayerNorm(512),\n",
        "            nn.Linear(512, 256),\n",
        "            nn.ReLU(),\n",
        "            nn.LayerNorm(256),\n",
        "            nn.Linear(256, 12),\n",
        "        )\n",
        "    def forward(self, x):\n",
        "        result = self.linear_chain(x)\n",
        "        return result\n"
      ],
      "execution_count": null,
      "outputs": []
    },
    {
      "cell_type": "code",
      "metadata": {
        "id": "f3jvx0-QISuj"
      },
      "source": [
        "def convert_datatype(x_train,y_train,x_val,y_val,x_test):\n",
        "  x_train=torch.from_numpy(x_train.astype(np.float32)).to(device)\n",
        "  y_train=torch.from_numpy(y_train).to(device)\n",
        "  x_val=torch.from_numpy(x_val.astype(np.float32)).to(device)\n",
        "  y_val=torch.from_numpy(y_val).to(device)\n",
        "  x_test=torch.from_numpy(x_test.astype(np.float32)).to(device)\n",
        "  return x_train,y_train,x_val,y_val,x_test"
      ],
      "execution_count": null,
      "outputs": []
    },
    {
      "cell_type": "code",
      "metadata": {
        "id": "fras-GISISxW"
      },
      "source": [
        "x_train1,y_train1,x_val1,y_val1,x_test1=convert_datatype(x_train1,y_train1,x_val1,y_val1,x_test1)"
      ],
      "execution_count": null,
      "outputs": []
    },
    {
      "cell_type": "code",
      "metadata": {
        "id": "evMX7_6aIS0e"
      },
      "source": [
        "x_train2,y_train2,x_val1,y_val2,x_test2=convert_datatype(x_train2,y_train2,x_val2,y_val2,x_test2)"
      ],
      "execution_count": null,
      "outputs": []
    },
    {
      "cell_type": "code",
      "metadata": {
        "id": "7SL2GnwkIXYG"
      },
      "source": [
        "def submmit_ann(model,x_test,file_name):\n",
        "  with torch.no_grad():\n",
        "    model.eval()\n",
        "    preds=model(x_test)\n",
        "    preds=torch.argsort(preds,dim=1,descending=True)[:,:5].cpu().numpy()\n",
        "    idxs=[]\n",
        "    cts=[]\n",
        "    for i in range(len(test1)):\n",
        "      idxs+=[id_test[i]]*5\n",
        "      for value in preds[i]:\n",
        "        cts.append(int_to_country[value])\n",
        "    sub=pd.DataFrame(np.column_stack((idxs,cts)),columns=['id','country'])\n",
        "    sub.to_csv(file_name,index=False)\n"
      ],
      "execution_count": null,
      "outputs": []
    },
    {
      "cell_type": "code",
      "metadata": {
        "id": "f-h4i2a7IXfd"
      },
      "source": [
        "def train(model_ann,optimizer,x_train,y_train,x_val,y_val,x_test,file_name):\n",
        "  ndg_score=[]\n",
        "  cnt=0\n",
        "  for epoch in range(n_epochs):\n",
        "    model_ann.train()\n",
        "    output=model_ann(x_train)\n",
        "    loss=criterion(output,y_train)\n",
        "    optimizer.zero_grad()\n",
        "    loss.backward()\n",
        "    optimizer.step()\n",
        "    if epoch!=0 and epoch%3==0:\n",
        "      model_ann.eval()\n",
        "      preds=model_ann(x_val)\n",
        "      temp=torch.argmax(preds,dim=1)\n",
        "      accuracy=accuracy_score(y_val1.cpu().numpy(),temp.cpu().numpy())\n",
        "      preds1=torch.argsort(preds,dim=1,descending=True)[:,:5]\n",
        "      preds1=preds1.cpu().detach().numpy()\n",
        "      score=cal_ndcg(preds1,y_val.cpu().numpy())\n",
        "      cnt+=1\n",
        "      ndg_score.append(score)\n",
        "      print(f\"Epoch:{epoch}----loss:{loss.item()}---val_acc:{accuracy}---NDCG_score:{score}\")\n",
        "  plt.plot(range(cnt),ndg_score)\n",
        "  plt.savefig('ann_score.png')\n",
        "  submmit_ann(model_ann,x_test,file_name+'.csv')\n"
      ],
      "execution_count": null,
      "outputs": []
    },
    {
      "cell_type": "code",
      "metadata": {
        "id": "QwSkKcA2U8Um"
      },
      "source": [
        "def train1(model_ann,optimizer,x_train,y_train,x_val,y_val,x_test,n_epochs):\n",
        "  for epoch in range(n_epochs):\n",
        "    model_ann.train()\n",
        "    output=model_ann(x_train)\n",
        "    loss=criterion(output,y_train)\n",
        "    optimizer.zero_grad()\n",
        "    loss.backward()\n",
        "    optimizer.step()\n",
        "    if epoch%100==0:\n",
        "      print(f\"Epoch:{epoch}---loss:{loss.item()}\")\n",
        "    \n",
        "  with torch.no_grad():\n",
        "    model_ann.eval()\n",
        "    preds=model_ann(x_val)\n",
        "    preds1=torch.argsort(preds,dim=1,descending=True)[:,:5]\n",
        "    preds1=preds1.cpu().detach().numpy()\n",
        "    score=cal_ndcg(preds1,y_val.cpu().numpy())\n",
        "  return score"
      ],
      "execution_count": null,
      "outputs": []
    },
    {
      "cell_type": "code",
      "metadata": {
        "colab": {
          "base_uri": "https://localhost:8080/",
          "height": 1000
        },
        "id": "YQu9ps98IpeW",
        "outputId": "e3571117-cd5a-414c-f97a-5edf6b98b000"
      },
      "source": [
        "score_list=[]\n",
        "lr_list=[0.005,0.01,0.05,0.1,0.15,0.2]\n",
        "for lr_value in lr_list:\n",
        "  model=NeuralNetwork().to(device)\n",
        "  criterion=nn.CrossEntropyLoss()\n",
        "  n_epochs=2000\n",
        "  optimizer=optim.SGD(model.parameters(),lr=lr_value)\n",
        "  score=train1(model,optimizer,x_train1,y_train1,x_val1,y_val1,x_test1,n_epochs)\n",
        "  score_list.append(score)\n",
        "plt.plot(lr_list,score_list)\n",
        "plt.savefig('ann_tuning.png')"
      ],
      "execution_count": null,
      "outputs": [
        {
          "output_type": "stream",
          "text": [
            "Epoch:0---loss:2.253161907196045\n",
            "Epoch:100---loss:1.160406470298767\n",
            "Epoch:200---loss:1.1548107862472534\n",
            "Epoch:300---loss:1.151299238204956\n",
            "Epoch:400---loss:1.1484657526016235\n",
            "Epoch:500---loss:1.1460431814193726\n",
            "Epoch:600---loss:1.1439063549041748\n",
            "Epoch:700---loss:1.1419291496276855\n",
            "Epoch:800---loss:1.1400669813156128\n",
            "Epoch:900---loss:1.1383336782455444\n",
            "Epoch:1000---loss:1.152628779411316\n",
            "Epoch:1100---loss:1.1416350603103638\n",
            "Epoch:1200---loss:1.140120029449463\n",
            "Epoch:1300---loss:1.1396123170852661\n",
            "Epoch:1400---loss:1.1388921737670898\n",
            "Epoch:1500---loss:1.1383389234542847\n",
            "Epoch:1600---loss:1.1375164985656738\n",
            "Epoch:1700---loss:1.1371225118637085\n",
            "Epoch:1800---loss:1.1365350484848022\n",
            "Epoch:1900---loss:1.1360591650009155\n",
            "Epoch:0---loss:2.3616154193878174\n",
            "Epoch:100---loss:1.1555036306381226\n",
            "Epoch:200---loss:1.150324821472168\n",
            "Epoch:300---loss:1.150895357131958\n",
            "Epoch:400---loss:1.1510852575302124\n",
            "Epoch:500---loss:1.1498628854751587\n",
            "Epoch:600---loss:1.1488149166107178\n",
            "Epoch:700---loss:1.1475601196289062\n",
            "Epoch:800---loss:1.146654725074768\n",
            "Epoch:900---loss:1.145480990409851\n",
            "Epoch:1000---loss:1.1445692777633667\n",
            "Epoch:1100---loss:1.143608808517456\n",
            "Epoch:1200---loss:1.1425634622573853\n",
            "Epoch:1300---loss:1.1417326927185059\n",
            "Epoch:1400---loss:1.1410490274429321\n",
            "Epoch:1500---loss:1.1404590606689453\n",
            "Epoch:1600---loss:1.1396806240081787\n",
            "Epoch:1700---loss:1.1390471458435059\n",
            "Epoch:1800---loss:1.1382777690887451\n",
            "Epoch:1900---loss:1.137663722038269\n",
            "Epoch:0---loss:2.737543821334839\n",
            "Epoch:100---loss:1.1649032831192017\n",
            "Epoch:200---loss:1.1596323251724243\n",
            "Epoch:300---loss:1.1560097932815552\n",
            "Epoch:400---loss:1.152761697769165\n",
            "Epoch:500---loss:1.1502686738967896\n",
            "Epoch:600---loss:1.1478427648544312\n",
            "Epoch:700---loss:1.1460224390029907\n",
            "Epoch:800---loss:1.1443043947219849\n",
            "Epoch:900---loss:1.1427249908447266\n",
            "Epoch:1000---loss:1.1413488388061523\n",
            "Epoch:1100---loss:1.1401740312576294\n",
            "Epoch:1200---loss:1.1388583183288574\n",
            "Epoch:1300---loss:1.13758385181427\n",
            "Epoch:1400---loss:1.136308193206787\n",
            "Epoch:1500---loss:1.1352630853652954\n",
            "Epoch:1600---loss:1.1338647603988647\n",
            "Epoch:1700---loss:1.1332460641860962\n",
            "Epoch:1800---loss:1.1315842866897583\n",
            "Epoch:1900---loss:1.1311825513839722\n",
            "Epoch:0---loss:3.0452404022216797\n",
            "Epoch:100---loss:1.1647300720214844\n",
            "Epoch:200---loss:1.1595823764801025\n",
            "Epoch:300---loss:1.1577682495117188\n",
            "Epoch:400---loss:1.1557104587554932\n",
            "Epoch:500---loss:1.15375816822052\n",
            "Epoch:600---loss:1.151816487312317\n",
            "Epoch:700---loss:1.1500004529953003\n",
            "Epoch:800---loss:1.1483162641525269\n",
            "Epoch:900---loss:1.1468952894210815\n",
            "Epoch:1000---loss:1.1454689502716064\n",
            "Epoch:1100---loss:1.1441413164138794\n",
            "Epoch:1200---loss:1.1429929733276367\n",
            "Epoch:1300---loss:1.1419460773468018\n",
            "Epoch:1400---loss:1.1409600973129272\n",
            "Epoch:1500---loss:1.1398224830627441\n",
            "Epoch:1600---loss:1.1389265060424805\n",
            "Epoch:1700---loss:1.1379164457321167\n",
            "Epoch:1800---loss:1.1370378732681274\n",
            "Epoch:1900---loss:1.1359961032867432\n",
            "Epoch:0---loss:2.900437355041504\n",
            "Epoch:100---loss:1.163739800453186\n",
            "Epoch:200---loss:1.160220742225647\n",
            "Epoch:300---loss:1.1591475009918213\n",
            "Epoch:400---loss:1.1578588485717773\n",
            "Epoch:500---loss:1.1563587188720703\n",
            "Epoch:600---loss:1.1544471979141235\n",
            "Epoch:700---loss:1.1524782180786133\n",
            "Epoch:800---loss:1.150838851928711\n",
            "Epoch:900---loss:1.1491584777832031\n",
            "Epoch:1000---loss:1.1475393772125244\n",
            "Epoch:1100---loss:1.1460304260253906\n",
            "Epoch:1200---loss:1.1446902751922607\n",
            "Epoch:1300---loss:1.1433998346328735\n",
            "Epoch:1400---loss:1.1420985460281372\n",
            "Epoch:1500---loss:1.1409430503845215\n",
            "Epoch:1600---loss:1.1399102210998535\n",
            "Epoch:1700---loss:1.1388280391693115\n",
            "Epoch:1800---loss:1.1377493143081665\n",
            "Epoch:1900---loss:1.1367741823196411\n",
            "Epoch:0---loss:2.3509037494659424\n",
            "Epoch:100---loss:1.1616636514663696\n",
            "Epoch:200---loss:1.159975290298462\n",
            "Epoch:300---loss:1.158331274986267\n",
            "Epoch:400---loss:1.156826376914978\n",
            "Epoch:500---loss:1.1548681259155273\n",
            "Epoch:600---loss:1.1529769897460938\n",
            "Epoch:700---loss:1.1509981155395508\n",
            "Epoch:800---loss:1.149289846420288\n",
            "Epoch:900---loss:1.1474390029907227\n",
            "Epoch:1000---loss:1.1458102464675903\n",
            "Epoch:1100---loss:1.1441746950149536\n",
            "Epoch:1200---loss:1.1424977779388428\n",
            "Epoch:1300---loss:1.1410093307495117\n",
            "Epoch:1400---loss:1.1397441625595093\n",
            "Epoch:1500---loss:1.138252854347229\n",
            "Epoch:1600---loss:1.1371008157730103\n",
            "Epoch:1700---loss:1.1358282566070557\n",
            "Epoch:1800---loss:1.1346310377120972\n",
            "Epoch:1900---loss:1.1331150531768799\n"
          ],
          "name": "stdout"
        },
        {
          "output_type": "display_data",
          "data": {
            "image/png": "[encoded data removed]",
            "text/plain": [
              "<Figure size 432x288 with 1 Axes>"
            ]
          },
          "metadata": {
            "tags": [],
            "needs_background": "light"
          }
        }
      ]
    },
    {
      "cell_type": "code",
      "metadata": {
        "id": "1VxjzF3D3BQk"
      },
      "source": [
        "!kaggle competitions submit airbnb-recruiting-new-user-bookings -f submmit_ann_avg.csv -m \"Yeah! I submit my file through the Google Colab!\""
      ],
      "execution_count": null,
      "outputs": []
    },
    {
      "cell_type": "code",
      "metadata": {
        "id": "CYrfBnOqIrHd"
      },
      "source": [
        "train(x_train2,y_train2,x_val1,y_val2,x_test2,'submmit_ann_knn')"
      ],
      "execution_count": null,
      "outputs": []
    }
  ]
}