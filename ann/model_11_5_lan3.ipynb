{
 "cells": [
  {
   "cell_type": "code",
   "execution_count": 1,
   "id": "df76fd5d",
   "metadata": {},
   "outputs": [],
   "source": [
    "import torch\n",
    "from torch import nn\n",
    "import pandas as pd\n",
    "import numpy as np\n",
    "from matplotlib import pyplot as plt"
   ]
  },
  {
   "cell_type": "markdown",
   "id": "0d70ad87",
   "metadata": {},
   "source": [
    "# Train model trên máy local với bộ dữ liệu train:\n",
    "##    Chia tập dữ liệu train thành 2 tập:\n",
    "        train_local: 17000 dòng dữ liệu\n",
    "        test_local: hơn 4000 dòng\n",
    "--> Đánh giá hiệu quả kiến trúc model và các hyperparameter."
   ]
  },
  {
   "cell_type": "code",
   "execution_count": 2,
   "id": "f5986845",
   "metadata": {},
   "outputs": [],
   "source": [
    "# Đọc dữ liệu local\n",
    "x_train_local = pd.read_csv(\"local/train/data_local_train.csv\")\n",
    "y_train_local = pd.read_csv(\"local/train/target_local_train.csv\")\n",
    "\n",
    "x_test_local = pd.read_csv(\"local/test/data_local_test.csv\")\n",
    "y_test_local = pd.read_csv(\"local/test/target_local_test.csv\")"
   ]
  },
  {
   "cell_type": "code",
   "execution_count": 3,
   "id": "b90c7e8e",
   "metadata": {},
   "outputs": [],
   "source": [
    "# Tách cột id user ở tập train và test\n",
    "id_user_train = x_train_local[\"id\"]\n",
    "id_user_test = x_test_local[\"id\"]\n",
    "\n",
    "x_train_local = x_train_local.drop([\"id\"], axis = 1)\n",
    "x_test_local = x_test_local.drop([\"id\"], axis = 1)\n",
    "\n",
    "# Transform thanh torch tensor\n",
    "transform_x_train_local = torch.tensor(x_train_local.values, dtype = torch.float)\n",
    "transform_x_test_local = torch.tensor(x_test_local.values, dtype = torch.float)\n",
    "\n",
    "transform_y_train_local = torch.tensor(y_train_local.values, dtype = torch.float)\n",
    "transform_y_test_local = torch.tensor(y_test_local.values, dtype = torch.float)"
   ]
  },
  {
   "cell_type": "code",
   "execution_count": 4,
   "id": "cfd5e5d7",
   "metadata": {},
   "outputs": [
    {
     "data": {
      "text/plain": [
       "tensor([0.3684, 0.1489, 0.2019, 0.0888, 0.0401, 0.0832, 0.0668, 0.0016, 0.2781,\n",
       "        1.0000, 0.0034, 0.0206])"
      ]
     },
     "execution_count": 4,
     "metadata": {},
     "output_type": "execute_result"
    }
   ],
   "source": [
    "weights = np.array(y_test_local)\n",
    "weights = weights.sum(axis = 0)\n",
    "weights = weights.sum() / weights\n",
    "weights = torch.tensor(weights / max(weights), dtype=torch.float)\n",
    "weights"
   ]
  },
  {
   "cell_type": "code",
   "execution_count": 5,
   "id": "deb64a4d",
   "metadata": {},
   "outputs": [
    {
     "name": "stdout",
     "output_type": "stream",
     "text": [
      "Using cpu device.\n",
      "NeuralNetwork(\n",
      "  (linear_chain): Sequential(\n",
      "    (0): Linear(in_features=138, out_features=256, bias=True)\n",
      "    (1): ReLU()\n",
      "    (2): LayerNorm((256,), eps=1e-05, elementwise_affine=True)\n",
      "    (3): Linear(in_features=256, out_features=128, bias=True)\n",
      "    (4): ReLU()\n",
      "    (5): LayerNorm((128,), eps=1e-05, elementwise_affine=True)\n",
      "    (6): Linear(in_features=128, out_features=12, bias=True)\n",
      "    (7): ReLU()\n",
      "  )\n",
      ")\n"
     ]
    }
   ],
   "source": [
    "# Xây dựng model\n",
    "device = \"cuda\" if torch.cuda.is_available() else \"cpu\"\n",
    "\n",
    "print(\"Using {} device.\".format(device))\n",
    "\n",
    "class NeuralNetwork(nn.Module):\n",
    "    def __init__(self):\n",
    "        super(NeuralNetwork, self).__init__()\n",
    "        self.linear_chain = nn.Sequential(\n",
    "        nn.Linear(138, 256),\n",
    "        nn.ReLU(),\n",
    "        nn.LayerNorm(256),\n",
    "        nn.Linear(256, 128),\n",
    "        nn.ReLU(),\n",
    "        nn.LayerNorm(128),\n",
    "        nn.Linear(128, 12),\n",
    "        nn.ReLU()\n",
    "        )\n",
    "    def forward(self, x):\n",
    "        result = self.linear_chain(x)\n",
    "        return result\n",
    "    \n",
    "model = NeuralNetwork().to(device)\n",
    "print(model)"
   ]
  },
  {
   "cell_type": "code",
   "execution_count": 6,
   "id": "15e1de57",
   "metadata": {},
   "outputs": [],
   "source": [
    "loss_fn = nn.CrossEntropyLoss(weight = weights)\n",
    "\n",
    "optimizer = torch.optim.SGD(model.parameters(), lr = 1e-3)\n",
    "batch_size = 64\n",
    "\n",
    "def train(x_train, y_train, model, loss_fn, optimizer):\n",
    "    size = x_train.shape[0]\n",
    "    \n",
    "    for t in range(size // batch_size):\n",
    "        X = x_train[t*batch_size: min((t+1) * batch_size, size)]\n",
    "        y = y_train[t*batch_size: min((t+1) * batch_size, size)]\n",
    "        y = torch.argsort(y, dim = 1, descending=True)[:, 0]\n",
    "        \n",
    "        pred = model(X)\n",
    "        loss = loss_fn(pred, y)\n",
    "        \n",
    "        optimizer.zero_grad()\n",
    "        loss.backward()\n",
    "        optimizer.step()\n",
    "        \n",
    "        if t% 100 == 0:\n",
    "            current = min((t+1) * batch_size, size)\n",
    "            loss = loss.item()\n",
    "            print(f\"loss: {loss:>7f}, [current: {current} / {size}]\")"
   ]
  },
  {
   "cell_type": "code",
   "execution_count": 7,
   "id": "e6940840",
   "metadata": {
    "scrolled": true
   },
   "outputs": [
    {
     "name": "stdout",
     "output_type": "stream",
     "text": [
      "Epochs 1\n",
      "............................................\n",
      "loss: 2.570660, [current: 64 / 170000]\n",
      "loss: 2.459688, [current: 6464 / 170000]\n",
      "loss: 2.462295, [current: 12864 / 170000]\n",
      "loss: 2.397453, [current: 19264 / 170000]\n",
      "loss: 2.494218, [current: 25664 / 170000]\n",
      "loss: 2.486502, [current: 32064 / 170000]\n",
      "loss: 2.491349, [current: 38464 / 170000]\n",
      "loss: 2.484542, [current: 44864 / 170000]\n",
      "loss: 2.512975, [current: 51264 / 170000]\n",
      "loss: 2.496047, [current: 57664 / 170000]\n",
      "loss: 2.442175, [current: 64064 / 170000]\n",
      "loss: 2.488690, [current: 70464 / 170000]\n",
      "loss: 2.498415, [current: 76864 / 170000]\n",
      "loss: 2.479093, [current: 83264 / 170000]\n",
      "loss: 2.468226, [current: 89664 / 170000]\n",
      "loss: 2.496162, [current: 96064 / 170000]\n",
      "loss: 2.472875, [current: 102464 / 170000]\n",
      "loss: 2.487516, [current: 108864 / 170000]\n",
      "loss: 2.451059, [current: 115264 / 170000]\n",
      "loss: 2.488273, [current: 121664 / 170000]\n",
      "loss: 2.482559, [current: 128064 / 170000]\n",
      "loss: 2.474267, [current: 134464 / 170000]\n",
      "loss: 2.502118, [current: 140864 / 170000]\n",
      "loss: 2.457299, [current: 147264 / 170000]\n",
      "loss: 2.493005, [current: 153664 / 170000]\n",
      "loss: 2.455900, [current: 160064 / 170000]\n",
      "loss: 2.445994, [current: 166464 / 170000]\n",
      "Accuracy on test set: 0.286115\n",
      "Epochs 2\n",
      "............................................\n",
      "loss: 2.493892, [current: 64 / 170000]\n",
      "loss: 2.494039, [current: 6464 / 170000]\n",
      "loss: 2.462404, [current: 12864 / 170000]\n",
      "loss: 2.453815, [current: 19264 / 170000]\n",
      "loss: 2.491100, [current: 25664 / 170000]\n",
      "loss: 2.491394, [current: 32064 / 170000]\n",
      "loss: 2.491217, [current: 38464 / 170000]\n",
      "loss: 2.484545, [current: 44864 / 170000]\n",
      "loss: 2.511409, [current: 51264 / 170000]\n",
      "loss: 2.496254, [current: 57664 / 170000]\n",
      "loss: 2.443150, [current: 64064 / 170000]\n",
      "loss: 2.488782, [current: 70464 / 170000]\n",
      "loss: 2.498300, [current: 76864 / 170000]\n",
      "loss: 2.479092, [current: 83264 / 170000]\n",
      "loss: 2.468144, [current: 89664 / 170000]\n",
      "loss: 2.496093, [current: 96064 / 170000]\n",
      "loss: 2.472874, [current: 102464 / 170000]\n",
      "loss: 2.487719, [current: 108864 / 170000]\n",
      "loss: 2.451615, [current: 115264 / 170000]\n",
      "loss: 2.488566, [current: 121664 / 170000]\n",
      "loss: 2.482572, [current: 128064 / 170000]\n",
      "loss: 2.474352, [current: 134464 / 170000]\n",
      "loss: 2.501494, [current: 140864 / 170000]\n",
      "loss: 2.456847, [current: 147264 / 170000]\n",
      "loss: 2.492655, [current: 153664 / 170000]\n",
      "loss: 2.454113, [current: 160064 / 170000]\n",
      "loss: 2.445346, [current: 166464 / 170000]\n",
      "Accuracy on test set: 0.286115\n",
      "Done!\n"
     ]
    }
   ],
   "source": [
    "y_true = torch.argsort(transform_y_test_local, dim = 1, descending = True)[:, 0]\n",
    "history_accuracy = [0]\n",
    "t = 0\n",
    "\n",
    "while True:\n",
    "    print(f\"Epochs {t+1}\\n............................................\")\n",
    "    t+=1\n",
    "    train(transform_x_train_local, transform_y_train_local, model, loss_fn, optimizer)\n",
    "    pred = model(transform_x_test_local)\n",
    "    pred = torch.argsort(pred, dim = 1, descending = True)[:, 0]\n",
    "    accuracy = (pred == y_true).sum() / y_true.shape[0]\n",
    "    history_accuracy.append(accuracy.item())\n",
    "    print(f\"Accuracy on test set: {accuracy.item():>7f}\")\n",
    "    \n",
    "    if(history_accuracy[-1] - history_accuracy[-2] < 0.0001 or t > 100):\n",
    "        break\n",
    "print(\"Done!\")"
   ]
  },
  {
   "cell_type": "code",
   "execution_count": 8,
   "id": "28e135ef",
   "metadata": {},
   "outputs": [],
   "source": [
    "# Đọc data test\n",
    "x_test = pd.read_csv(\"for_kaggle/not_normalize/test/x_test_not_normalize.csv\")\n",
    "\n",
    "id_test_user = list(x_test[\"id\"])\n",
    "\n",
    "x_test = x_test.drop([\"id\"], axis = 1)\n",
    "\n",
    "x_test = torch.tensor(x_test.values, dtype = torch.float)"
   ]
  },
  {
   "cell_type": "code",
   "execution_count": 9,
   "id": "1ea30ff0",
   "metadata": {},
   "outputs": [],
   "source": [
    "y_pred = model(x_test)\n",
    "y_pred = torch.argsort(y_pred, dim = 1, descending = True)[:, :5].tolist()"
   ]
  },
  {
   "cell_type": "code",
   "execution_count": 10,
   "id": "892b6f02",
   "metadata": {},
   "outputs": [],
   "source": [
    "label = ['country_AU',\n",
    " 'country_CA',\n",
    " 'country_DE',\n",
    " 'country_ES',\n",
    " 'country_FR',\n",
    " 'country_GB',\n",
    " 'country_IT',\n",
    " 'country_NDF',\n",
    " 'country_NL',\n",
    " 'country_PT',\n",
    " 'country_US',\n",
    " 'country_other']\n",
    "\n",
    "ids = []\n",
    "result = []\n",
    "\n",
    "for i in range(len(y_pred)):\n",
    "    ids += [id_test_user[i]]*5\n",
    "    for item in y_pred[i]:\n",
    "        result.append(label[item][8:])"
   ]
  },
  {
   "cell_type": "code",
   "execution_count": 11,
   "id": "92aae242",
   "metadata": {},
   "outputs": [],
   "source": [
    "result_ = {\"id\": ids, \"country\": result}\n",
    "\n",
    "submission = pd.DataFrame(result_)\n",
    "\n",
    "submission.to_csv(\"submission.csv\", index=False)"
   ]
  },
  {
   "cell_type": "code",
   "execution_count": 12,
   "id": "a9e74456",
   "metadata": {},
   "outputs": [
    {
     "name": "stdout",
     "output_type": "stream",
     "text": [
      "Accuracy: 0\n",
      "\n",
      "Accuracy: 0.2861154079437256\n",
      "\n",
      "Accuracy: 0.2861154079437256\n",
      "\n"
     ]
    }
   ],
   "source": [
    "for item in history_accuracy:\n",
    "    print(\"Accuracy: \" + str(item) + \"\\n\")"
   ]
  },
  {
   "cell_type": "code",
   "execution_count": null,
   "id": "e4ffc3c3",
   "metadata": {},
   "outputs": [],
   "source": []
  }
 ],
 "metadata": {
  "kernelspec": {
   "display_name": "Torch",
   "language": "python",
   "name": "torch"
  },
  "language_info": {
   "codemirror_mode": {
    "name": "ipython",
    "version": 3
   },
   "file_extension": ".py",
   "mimetype": "text/x-python",
   "name": "python",
   "nbconvert_exporter": "python",
   "pygments_lexer": "ipython3",
   "version": "3.8.8"
  }
 },
 "nbformat": 4,
 "nbformat_minor": 5
}
