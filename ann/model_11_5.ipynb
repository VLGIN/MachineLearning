{
 "cells": [
  {
   "cell_type": "code",
   "execution_count": 1,
   "id": "df76fd5d",
   "metadata": {},
   "outputs": [],
   "source": [
    "import torch\n",
    "from torch import nn\n",
    "import pandas as pd\n",
    "import numpy as np\n",
    "from matplotlib import pyplot as plt"
   ]
  },
  {
   "cell_type": "markdown",
   "id": "0d70ad87",
   "metadata": {},
   "source": [
    "# Train model trên máy local với bộ dữ liệu train:\n",
    "##    Chia tập dữ liệu train thành 2 tập:\n",
    "        train_local: 17000 dòng dữ liệu\n",
    "        test_local: hơn 4000 dòng\n",
    "--> Đánh giá hiệu quả kiến trúc model và các hyperparameter."
   ]
  },
  {
   "cell_type": "code",
   "execution_count": 2,
   "id": "f5986845",
   "metadata": {},
   "outputs": [],
   "source": [
    "# Đọc dữ liệu local\n",
    "x_train_local = pd.read_csv(\"local/train/data_local_train.csv\")\n",
    "y_train_local = pd.read_csv(\"local/train/target_local_train.csv\")\n",
    "\n",
    "x_test_local = pd.read_csv(\"local/test/data_local_test.csv\")\n",
    "y_test_local = pd.read_csv(\"local/test/target_local_test.csv\")"
   ]
  },
  {
   "cell_type": "code",
   "execution_count": 3,
   "id": "b90c7e8e",
   "metadata": {},
   "outputs": [],
   "source": [
    "# Tách cột id user ở tập train và test\n",
    "id_user_train = x_train_local[\"id\"]\n",
    "id_user_test = x_test_local[\"id\"]\n",
    "\n",
    "x_train_local = x_train_local.drop([\"id\"], axis = 1)\n",
    "x_test_local = x_test_local.drop([\"id\"], axis = 1)\n",
    "\n",
    "# Transform thanh torch tensor\n",
    "transform_x_train_local = torch.tensor(x_train_local.values, dtype = torch.float)\n",
    "transform_x_test_local = torch.tensor(x_test_local.values, dtype = torch.float)\n",
    "\n",
    "transform_y_train_local = torch.tensor(y_train_local.values, dtype = torch.float)\n",
    "transform_y_test_local = torch.tensor(y_test_local.values, dtype = torch.float)"
   ]
  },
  {
   "cell_type": "code",
   "execution_count": 4,
   "id": "deb64a4d",
   "metadata": {},
   "outputs": [
    {
     "name": "stdout",
     "output_type": "stream",
     "text": [
      "Using cpu device.\n",
      "NeuralNetwork(\n",
      "  (linear_chain): Sequential(\n",
      "    (0): Linear(in_features=138, out_features=512, bias=True)\n",
      "    (1): ReLU()\n",
      "    (2): LayerNorm((512,), eps=1e-05, elementwise_affine=True)\n",
      "    (3): Linear(in_features=512, out_features=256, bias=True)\n",
      "    (4): ReLU()\n",
      "    (5): LayerNorm((256,), eps=1e-05, elementwise_affine=True)\n",
      "    (6): Linear(in_features=256, out_features=128, bias=True)\n",
      "    (7): ReLU()\n",
      "    (8): LayerNorm((128,), eps=1e-05, elementwise_affine=True)\n",
      "    (9): Linear(in_features=128, out_features=12, bias=True)\n",
      "    (10): ReLU()\n",
      "  )\n",
      ")\n"
     ]
    }
   ],
   "source": [
    "# Xây dựng model\n",
    "device = \"cuda\" if torch.cuda.is_available() else \"cpu\"\n",
    "\n",
    "print(\"Using {} device.\".format(device))\n",
    "\n",
    "class NeuralNetwork(nn.Module):\n",
    "    def __init__(self):\n",
    "        super(NeuralNetwork, self).__init__()\n",
    "        self.linear_chain = nn.Sequential(\n",
    "        nn.Linear(138, 512),\n",
    "        nn.ReLU(),\n",
    "        nn.LayerNorm(512),\n",
    "        nn.Linear(512, 256),\n",
    "        nn.ReLU(),\n",
    "        nn.LayerNorm(256),\n",
    "        nn.Linear(256, 128),\n",
    "        nn.ReLU(),\n",
    "        nn.LayerNorm(128),\n",
    "        nn.Linear(128, 12),\n",
    "        nn.ReLU()\n",
    "        )\n",
    "    def forward(self, x):\n",
    "        result = self.linear_chain(x)\n",
    "        return result\n",
    "    \n",
    "model = NeuralNetwork().to(device)\n",
    "print(model)"
   ]
  },
  {
   "cell_type": "code",
   "execution_count": 5,
   "id": "15e1de57",
   "metadata": {},
   "outputs": [],
   "source": [
    "loss_fn = nn.CrossEntropyLoss()\n",
    "\n",
    "optimizer = torch.optim.SGD(model.parameters(), lr = 1e-3)\n",
    "batch_size = 64\n",
    "\n",
    "def train(x_train, y_train, model, loss_fn, optimizer):\n",
    "    size = x_train.shape[0]\n",
    "    \n",
    "    for t in range(size // batch_size):\n",
    "        X = x_train[t*batch_size: min((t+1) * batch_size, size)]\n",
    "        y = y_train[t*batch_size: min((t+1) * batch_size, size)]\n",
    "        y = torch.argsort(y, dim = 1, descending=True)[:, 0]\n",
    "        \n",
    "        pred = model(X)\n",
    "        loss = loss_fn(pred, y)\n",
    "        \n",
    "        optimizer.zero_grad()\n",
    "        loss.backward()\n",
    "        optimizer.step()\n",
    "        \n",
    "        if t% 100 == 0:\n",
    "            current = min((t+1) * batch_size, size)\n",
    "            loss = loss.item()\n",
    "            print(f\"loss: {loss:>7f}, [current: {current} / {size}]\")"
   ]
  },
  {
   "cell_type": "code",
   "execution_count": 6,
   "id": "e6940840",
   "metadata": {
    "scrolled": true
   },
   "outputs": [
    {
     "name": "stdout",
     "output_type": "stream",
     "text": [
      "Epochs 1\n",
      "............................................\n",
      "loss: 2.608962, [current: 64 / 170000]\n",
      "loss: 1.367179, [current: 6464 / 170000]\n",
      "loss: 1.171236, [current: 12864 / 170000]\n",
      "loss: 1.154542, [current: 19264 / 170000]\n",
      "loss: 1.396102, [current: 25664 / 170000]\n",
      "loss: 1.419927, [current: 32064 / 170000]\n",
      "loss: 1.229854, [current: 38464 / 170000]\n",
      "loss: 1.106450, [current: 44864 / 170000]\n",
      "loss: 1.389450, [current: 51264 / 170000]\n",
      "loss: 1.486519, [current: 57664 / 170000]\n",
      "loss: 1.077593, [current: 64064 / 170000]\n",
      "loss: 1.163235, [current: 70464 / 170000]\n",
      "loss: 1.161982, [current: 76864 / 170000]\n",
      "loss: 1.198268, [current: 83264 / 170000]\n",
      "loss: 1.130822, [current: 89664 / 170000]\n",
      "loss: 1.279624, [current: 96064 / 170000]\n",
      "loss: 1.270081, [current: 102464 / 170000]\n",
      "loss: 1.076131, [current: 108864 / 170000]\n",
      "loss: 0.982761, [current: 115264 / 170000]\n",
      "loss: 1.381136, [current: 121664 / 170000]\n",
      "loss: 1.112170, [current: 128064 / 170000]\n",
      "loss: 1.239593, [current: 134464 / 170000]\n",
      "loss: 1.193622, [current: 140864 / 170000]\n",
      "loss: 1.067273, [current: 147264 / 170000]\n",
      "loss: 1.114288, [current: 153664 / 170000]\n",
      "loss: 0.958640, [current: 160064 / 170000]\n",
      "loss: 0.994973, [current: 166464 / 170000]\n",
      "Accuracy on test set: 0.587581\n",
      "Epochs 2\n",
      "............................................\n",
      "loss: 1.553022, [current: 64 / 170000]\n",
      "loss: 1.354021, [current: 6464 / 170000]\n",
      "loss: 1.132483, [current: 12864 / 170000]\n",
      "loss: 1.139403, [current: 19264 / 170000]\n",
      "loss: 1.396600, [current: 25664 / 170000]\n",
      "loss: 1.431921, [current: 32064 / 170000]\n",
      "loss: 1.229156, [current: 38464 / 170000]\n",
      "loss: 1.102843, [current: 44864 / 170000]\n",
      "loss: 1.390912, [current: 51264 / 170000]\n",
      "loss: 1.484828, [current: 57664 / 170000]\n",
      "loss: 1.073352, [current: 64064 / 170000]\n",
      "loss: 1.163801, [current: 70464 / 170000]\n",
      "loss: 1.162041, [current: 76864 / 170000]\n",
      "loss: 1.195575, [current: 83264 / 170000]\n",
      "loss: 1.129230, [current: 89664 / 170000]\n",
      "loss: 1.279510, [current: 96064 / 170000]\n",
      "loss: 1.264689, [current: 102464 / 170000]\n",
      "loss: 1.076554, [current: 108864 / 170000]\n",
      "loss: 0.981422, [current: 115264 / 170000]\n",
      "loss: 1.382213, [current: 121664 / 170000]\n",
      "loss: 1.110362, [current: 128064 / 170000]\n",
      "loss: 1.239852, [current: 134464 / 170000]\n",
      "loss: 1.189443, [current: 140864 / 170000]\n",
      "loss: 1.065100, [current: 147264 / 170000]\n",
      "loss: 1.114721, [current: 153664 / 170000]\n",
      "loss: 0.957454, [current: 160064 / 170000]\n",
      "loss: 0.992178, [current: 166464 / 170000]\n",
      "Accuracy on test set: 0.587581\n",
      "Done!\n"
     ]
    }
   ],
   "source": [
    "y_true = torch.argsort(transform_y_test_local, dim = 1, descending = True)[:, 0]\n",
    "history_accuracy = [0]\n",
    "t = 0\n",
    "\n",
    "while True:\n",
    "    print(f\"Epochs {t+1}\\n............................................\")\n",
    "    t+=1\n",
    "    train(transform_x_train_local, transform_y_train_local, model, loss_fn, optimizer)\n",
    "    pred = model(transform_x_test_local)\n",
    "    pred = torch.argsort(pred, dim = 1, descending = True)[:, 0]\n",
    "    accuracy = (pred == y_true).sum() / y_true.shape[0]\n",
    "    history_accuracy.append(accuracy.item())\n",
    "    print(f\"Accuracy on test set: {accuracy.item():>7f}\")\n",
    "    \n",
    "    if(history_accuracy[-1] - history_accuracy[-2] < 0.0001 or t > 100):\n",
    "        break\n",
    "print(\"Done!\")"
   ]
  },
  {
   "cell_type": "code",
   "execution_count": 8,
   "id": "28e135ef",
   "metadata": {},
   "outputs": [],
   "source": [
    "# Đọc data test\n",
    "x_test = pd.read_csv(\"for_kaggle/not_normalize/test/x_test_not_normalize.csv\")\n",
    "\n",
    "id_test_user = list(x_test[\"id\"])\n",
    "\n",
    "x_test = x_test.drop([\"id\"], axis = 1)\n",
    "\n",
    "x_test = torch.tensor(x_test.values, dtype = torch.float)"
   ]
  },
  {
   "cell_type": "code",
   "execution_count": 9,
   "id": "1ea30ff0",
   "metadata": {},
   "outputs": [],
   "source": [
    "y_pred = model(x_test)\n",
    "y_pred = torch.argsort(y_pred, dim = 1, descending = True)[:, :5].tolist()"
   ]
  },
  {
   "cell_type": "code",
   "execution_count": 18,
   "id": "892b6f02",
   "metadata": {},
   "outputs": [],
   "source": [
    "label = ['country_AU',\n",
    " 'country_CA',\n",
    " 'country_DE',\n",
    " 'country_ES',\n",
    " 'country_FR',\n",
    " 'country_GB',\n",
    " 'country_IT',\n",
    " 'country_NDF',\n",
    " 'country_NL',\n",
    " 'country_PT',\n",
    " 'country_US',\n",
    " 'country_other']\n",
    "\n",
    "ids = []\n",
    "result = []\n",
    "\n",
    "for i in range(len(y_pred)):\n",
    "    ids += [id_test_user[i]]*5\n",
    "    for item in y_pred[i]:\n",
    "        result.append(label[item][8:])"
   ]
  },
  {
   "cell_type": "code",
   "execution_count": 20,
   "id": "92aae242",
   "metadata": {},
   "outputs": [],
   "source": [
    "result_ = {\"id\": ids, \"country\": result}\n",
    "\n",
    "submission = pd.DataFrame(result_)\n",
    "\n",
    "submission.to_csv(\"submission.csv\", index=False)"
   ]
  },
  {
   "cell_type": "code",
   "execution_count": 22,
   "id": "a9e74456",
   "metadata": {},
   "outputs": [
    {
     "name": "stdout",
     "output_type": "stream",
     "text": [
      "Accuracy: 0\n",
      "\n",
      "Accuracy: 0.5875813961029053\n",
      "\n",
      "Accuracy: 0.5875813961029053\n",
      "\n"
     ]
    }
   ],
   "source": [
    "for item in history_accuracy:\n",
    "    print(\"Accuracy: \" + str(item) + \"\\n\")"
   ]
  },
  {
   "cell_type": "code",
   "execution_count": null,
   "id": "e4ffc3c3",
   "metadata": {},
   "outputs": [],
   "source": []
  }
 ],
 "metadata": {
  "kernelspec": {
   "display_name": "Torch",
   "language": "python",
   "name": "torch"
  },
  "language_info": {
   "codemirror_mode": {
    "name": "ipython",
    "version": 3
   },
   "file_extension": ".py",
   "mimetype": "text/x-python",
   "name": "python",
   "nbconvert_exporter": "python",
   "pygments_lexer": "ipython3",
   "version": "3.8.8"
  }
 },
 "nbformat": 4,
 "nbformat_minor": 5
}
