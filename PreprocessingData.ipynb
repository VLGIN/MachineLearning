{
  "nbformat": 4,
  "nbformat_minor": 0,
  "metadata": {
    "colab": {
      "name": "PreprocessingData.ipynb",
      "provenance": [],
      "collapsed_sections": [],
      "toc_visible": true
    },
    "kernelspec": {
      "name": "python3",
      "display_name": "Python 3"
    },
    "language_info": {
      "name": "python"
    },
    "accelerator": "GPU"
  },
  "cells": [
    {
      "cell_type": "code",
      "metadata": {
        "id": "Tjm32oKbPnTf"
      },
      "source": [
        "import os \n",
        "import pandas as pd \n",
        "import numpy as np \n",
        "from matplotlib import pyplot as plt \n",
        "import seaborn as sns \n",
        "import zipfile\n",
        "from sklearn.model_selection import train_test_split"
      ],
      "execution_count": 2,
      "outputs": []
    },
    {
      "cell_type": "code",
      "metadata": {
        "colab": {
          "base_uri": "https://localhost:8080/"
        },
        "id": "15smmd6JPuqk",
        "outputId": "c966ea10-9cda-47d3-f2a9-7ed3ab6810c5"
      },
      "source": [
        "os.environ[\"KAGGLE_USERNAME\"]=\"daominhkhanh\"\n",
        "os.environ[\"KAGGLE_KEY\"]=\"90e6f266906e9dcfeae1afea9a0630ac\"\n",
        "!kaggle competitions download -c airbnb-recruiting-new-user-bookings"
      ],
      "execution_count": 4,
      "outputs": [
        {
          "output_type": "stream",
          "text": [
            "Warning: Looks like you're using an outdated API Version, please consider updating (server 1.5.12 / client 1.5.4)\n",
            "Downloading sample_submission_NDF.csv.zip to /content\n",
            "  0% 0.00/478k [00:00<?, ?B/s]\n",
            "100% 478k/478k [00:00<00:00, 66.4MB/s]\n",
            "Downloading sessions.csv.zip to /content\n",
            "100% 59.0M/59.1M [00:00<00:00, 54.4MB/s]\n",
            "100% 59.1M/59.1M [00:00<00:00, 86.7MB/s]\n",
            "Downloading countries.csv.zip to /content\n",
            "  0% 0.00/546 [00:00<?, ?B/s]\n",
            "100% 546/546 [00:00<00:00, 465kB/s]\n",
            "Downloading age_gender_bkts.csv.zip to /content\n",
            "  0% 0.00/2.46k [00:00<?, ?B/s]\n",
            "100% 2.46k/2.46k [00:00<00:00, 2.40MB/s]\n",
            "Downloading train_users_2.csv.zip to /content\n",
            "  0% 0.00/4.07M [00:00<?, ?B/s]\n",
            "100% 4.07M/4.07M [00:00<00:00, 66.3MB/s]\n",
            "Downloading test_users.csv.zip to /content\n",
            "  0% 0.00/1.03M [00:00<?, ?B/s]\n",
            "100% 1.03M/1.03M [00:00<00:00, 144MB/s]\n"
          ],
          "name": "stdout"
        }
      ]
    },
    {
      "cell_type": "code",
      "metadata": {
        "id": "_j20hfHqPusa"
      },
      "source": [
        "for file in os.listdir(os.getcwd()):\n",
        "  if \"zip\" in file:\n",
        "    with zipfile.ZipFile(file,'r') as zip:\n",
        "      zip.extractall()"
      ],
      "execution_count": 5,
      "outputs": []
    },
    {
      "cell_type": "code",
      "metadata": {
        "id": "LOVPWN57Puu3"
      },
      "source": [
        "!rm *.zip"
      ],
      "execution_count": 6,
      "outputs": []
    },
    {
      "cell_type": "markdown",
      "metadata": {
        "id": "_4aFvwhEP-eb"
      },
      "source": [
        "##  Đọc dữ liệu "
      ]
    },
    {
      "cell_type": "code",
      "metadata": {
        "id": "TQpMU6BcPuxw"
      },
      "source": [
        "train=pd.read_csv('train_users_2.csv')\n",
        "test=pd.read_csv('test_users.csv')\n",
        "age_gender=pd.read_csv('age_gender_bkts.csv')\n",
        "countries=pd.read_csv('countries.csv')\n",
        "sessions=pd.read_csv('sessions.csv')"
      ],
      "execution_count": 78,
      "outputs": []
    },
    {
      "cell_type": "code",
      "metadata": {
        "colab": {
          "base_uri": "https://localhost:8080/",
          "height": 352
        },
        "id": "IC1Fpd0-P3_M",
        "outputId": "27b72f26-7406-4e02-b81b-b64ef633f7b9"
      },
      "source": [
        "sns.countplot(train.country_destination)"
      ],
      "execution_count": 79,
      "outputs": [
        {
          "output_type": "stream",
          "text": [
            "/usr/local/lib/python3.7/dist-packages/seaborn/_decorators.py:43: FutureWarning: Pass the following variable as a keyword arg: x. From version 0.12, the only valid positional argument will be `data`, and passing other arguments without an explicit keyword will result in an error or misinterpretation.\n",
            "  FutureWarning\n"
          ],
          "name": "stderr"
        },
        {
          "output_type": "execute_result",
          "data": {
            "text/plain": [
              "<matplotlib.axes._subplots.AxesSubplot at 0x7f023597da10>"
            ]
          },
          "metadata": {
            "tags": []
          },
          "execution_count": 79
        },
        {
          "output_type": "display_data",
          "data": {
            "image/png": "[encoded data removed]",
            "text/plain": [
              "<Figure size 432x288 with 1 Axes>"
            ]
          },
          "metadata": {
            "tags": [],
            "needs_background": "light"
          }
        }
      ]
    },
    {
      "cell_type": "markdown",
      "metadata": {
        "id": "CGuMVpDaQFCD"
      },
      "source": [
        "#  Hiện thị các cột có thông  tin bị Nan   "
      ]
    },
    {
      "cell_type": "code",
      "metadata": {
        "id": "IkEopHLZP61u"
      },
      "source": [
        "def show_nan(dataframe):\n",
        "  for name_columns in dataframe.keys():\n",
        "    if dataframe[name_columns].isnull().values.any():\n",
        "      print(name_columns,':',dataframe[name_columns].isna().sum())\n",
        " "
      ],
      "execution_count": 80,
      "outputs": []
    },
    {
      "cell_type": "code",
      "metadata": {
        "colab": {
          "base_uri": "https://localhost:8080/"
        },
        "id": "60CMVRQRQJQu",
        "outputId": "ff5d5bc9-b7bd-4be2-ebfd-aa9a9b815ff2"
      },
      "source": [
        "show_nan(train)"
      ],
      "execution_count": 81,
      "outputs": [
        {
          "output_type": "stream",
          "text": [
            "date_first_booking : 124543\n",
            "age : 87990\n",
            "first_affiliate_tracked : 6065\n"
          ],
          "name": "stdout"
        }
      ]
    },
    {
      "cell_type": "code",
      "metadata": {
        "colab": {
          "base_uri": "https://localhost:8080/"
        },
        "id": "bg_X9dIYQVtV",
        "outputId": "2fc7ea13-be6a-4869-e279-26a9cffb3ac5"
      },
      "source": [
        "show_nan(test)"
      ],
      "execution_count": 82,
      "outputs": [
        {
          "output_type": "stream",
          "text": [
            "date_first_booking : 62096\n",
            "age : 28876\n",
            "first_affiliate_tracked : 20\n"
          ],
          "name": "stdout"
        }
      ]
    },
    {
      "cell_type": "markdown",
      "metadata": {
        "id": "JAogEmhUQjEf"
      },
      "source": [
        "# 1  Tiền xử  lý dữ  liệu"
      ]
    },
    {
      "cell_type": "code",
      "metadata": {
        "id": "n7ltfLAmQYi9"
      },
      "source": [
        "users=pd.concat((train,test),axis=0)"
      ],
      "execution_count": 83,
      "outputs": []
    },
    {
      "cell_type": "code",
      "metadata": {
        "colab": {
          "base_uri": "https://localhost:8080/"
        },
        "id": "ig1IUIKvQhrv",
        "outputId": "3ff5bf0b-6f14-4c42-ea5c-c0a3cdc38891"
      },
      "source": [
        "print(users.shape)\n",
        "print(train.shape)\n",
        "print(test.shape)"
      ],
      "execution_count": 84,
      "outputs": [
        {
          "output_type": "stream",
          "text": [
            "(275547, 16)\n",
            "(213451, 16)\n",
            "(62096, 15)\n"
          ],
          "name": "stdout"
        }
      ]
    },
    {
      "cell_type": "code",
      "metadata": {
        "id": "56bm-2ZeQrcZ"
      },
      "source": [
        "users.drop(['id','date_first_booking'],axis=1,inplace=True)"
      ],
      "execution_count": 85,
      "outputs": []
    },
    {
      "cell_type": "code",
      "metadata": {
        "colab": {
          "base_uri": "https://localhost:8080/"
        },
        "id": "FL-oNLSAQutZ",
        "outputId": "42c1a575-e07c-49e8-a798-687c52661ae4"
      },
      "source": [
        "print(set(users.gender))"
      ],
      "execution_count": 86,
      "outputs": [
        {
          "output_type": "stream",
          "text": [
            "{'MALE', '-unknown-', 'OTHER', 'FEMALE'}\n"
          ],
          "name": "stdout"
        }
      ]
    },
    {
      "cell_type": "markdown",
      "metadata": {
        "id": "wvgMSc-zQxnc"
      },
      "source": [
        "Thay giới tính --unknown- = OTHER "
      ]
    },
    {
      "cell_type": "code",
      "metadata": {
        "id": "Qj5udnWZQwec"
      },
      "source": [
        "users.gender=users.gender.replace('OTHER','-unknown-')"
      ],
      "execution_count": 87,
      "outputs": []
    },
    {
      "cell_type": "code",
      "metadata": {
        "colab": {
          "base_uri": "https://localhost:8080/",
          "height": 351
        },
        "id": "Gyc_Uan6RCkI",
        "outputId": "0e5288be-3944-4c94-cb94-40be0c5bb901"
      },
      "source": [
        "sns.countplot(users.gender)"
      ],
      "execution_count": 88,
      "outputs": [
        {
          "output_type": "stream",
          "text": [
            "/usr/local/lib/python3.7/dist-packages/seaborn/_decorators.py:43: FutureWarning: Pass the following variable as a keyword arg: x. From version 0.12, the only valid positional argument will be `data`, and passing other arguments without an explicit keyword will result in an error or misinterpretation.\n",
            "  FutureWarning\n"
          ],
          "name": "stderr"
        },
        {
          "output_type": "execute_result",
          "data": {
            "text/plain": [
              "<matplotlib.axes._subplots.AxesSubplot at 0x7f0237403c10>"
            ]
          },
          "metadata": {
            "tags": []
          },
          "execution_count": 88
        },
        {
          "output_type": "display_data",
          "data": {
            "image/png": "[encoded data removed]",
            "text/plain": [
              "<Figure size 432x288 with 1 Axes>"
            ]
          },
          "metadata": {
            "tags": [],
            "needs_background": "light"
          }
        }
      ]
    },
    {
      "cell_type": "code",
      "metadata": {
        "id": "SrPKEQ2JREPK"
      },
      "source": [
        "def cal_avg_age(dataframe):\n",
        "  temp=np.array(dataframe.age.isnull())\n",
        "  age_not_nan=np.where(temp==False)[0]\n",
        "  ages=np.array(dataframe.age)\n",
        "  ages=ages[age_not_nan]\n",
        "  avg_age=np.sum(ages)/len(ages)\n",
        "  return int(round(avg_age))"
      ],
      "execution_count": 89,
      "outputs": []
    },
    {
      "cell_type": "markdown",
      "metadata": {
        "id": "ZiGUHySaRePL"
      },
      "source": [
        "Xử lý các dữ liệu bị sai tuổi "
      ]
    },
    {
      "cell_type": "code",
      "metadata": {
        "id": "VGYL0S50RIid"
      },
      "source": [
        "ages=users.age.values\n",
        "users.age=np.where(np.logical_and(ages>1900, ages<2015),2015-ages,ages)"
      ],
      "execution_count": 90,
      "outputs": []
    },
    {
      "cell_type": "code",
      "metadata": {
        "id": "9eE1LAtNRma6"
      },
      "source": [
        "users.loc[(users.age>115) | (users.age<5),'age']=np.nan"
      ],
      "execution_count": 91,
      "outputs": []
    },
    {
      "cell_type": "code",
      "metadata": {
        "colab": {
          "base_uri": "https://localhost:8080/"
        },
        "id": "8QM3Ml5rR4Fk",
        "outputId": "b6aaeb72-2e1b-43ca-c081-c4080b9b0ef8"
      },
      "source": [
        "show_nan(users)"
      ],
      "execution_count": 92,
      "outputs": [
        {
          "output_type": "stream",
          "text": [
            "age : 117631\n",
            "first_affiliate_tracked : 6085\n",
            "country_destination : 62096\n"
          ],
          "name": "stdout"
        }
      ]
    },
    {
      "cell_type": "markdown",
      "metadata": {
        "id": "rUiF3isBRq29"
      },
      "source": [
        "Do trường thuộc tinh first_affiliate_tracked=nan nên ta sẽ xử lý những giá trị này bằng cách thay bằng giá trị mode của first_affiliate_tracked"
      ]
    },
    {
      "cell_type": "code",
      "metadata": {
        "id": "a96DPQz6Rn2Q"
      },
      "source": [
        "mode_first_affilicate_value=users.first_affiliate_tracked.mode().iat[0]\n",
        "users.first_affiliate_tracked=users.first_affiliate_tracked.fillna(mode_first_affilicate_value)"
      ],
      "execution_count": 93,
      "outputs": []
    },
    {
      "cell_type": "code",
      "metadata": {
        "colab": {
          "base_uri": "https://localhost:8080/"
        },
        "id": "lN7W5dXySUXY",
        "outputId": "fee97b04-a231-4c05-8ac8-e0893b56bed1"
      },
      "source": [
        "show_nan(users)"
      ],
      "execution_count": 94,
      "outputs": [
        {
          "output_type": "stream",
          "text": [
            "age : 117631\n",
            "country_destination : 62096\n"
          ],
          "name": "stdout"
        }
      ]
    },
    {
      "cell_type": "markdown",
      "metadata": {
        "id": "WsyAbvrtSqUr"
      },
      "source": [
        "Vì trong một năm thì mùa du lịch sẽ chỉ tập trung ở những tháng cố định nên các năm khác nhau thì sẽ có điểm chung là mùa du lịch tập trung vào \n",
        "các tháng cố định nên ta sẽ thay các trường thuộc tính như date_account_created, timestamp_first_active bằng giá trị tháng"
      ]
    },
    {
      "cell_type": "code",
      "metadata": {
        "id": "efHyZM_lSWJQ"
      },
      "source": [
        "from sklearn.preprocessing import OrdinalEncoder\n",
        "def preprocessing_data(dataframe):\n",
        "  date_account_create=np.vstack(dataframe.date_account_created.astype(str).apply(lambda x: list (map(int,x.split('-')))).values)\n",
        "  dataframe['dac_month']=date_account_create[:,1]\n",
        "  dataframe.drop(['date_account_created'],axis=1,inplace=True)\n",
        "  timetamp_first_active=np.vstack(dataframe.timestamp_first_active.astype(str).apply(lambda x:list(map(int,[x[:4],x[4:6],x[6:8],x[8:10],x[10:12],x[12:14]]))).values)\n",
        "  dataframe['tfa_month']=timetamp_first_active[:,1]\n",
        "  dataframe.drop(['timestamp_first_active'],axis=1,inplace=True)\n",
        "  return dataframe\n"
      ],
      "execution_count": 95,
      "outputs": []
    },
    {
      "cell_type": "code",
      "metadata": {
        "id": "iCv4oyIpSpAO"
      },
      "source": [
        "users=preprocessing_data(users)"
      ],
      "execution_count": 96,
      "outputs": []
    },
    {
      "cell_type": "code",
      "metadata": {
        "id": "i6Jh7GMEUBV9"
      },
      "source": [
        "train1=users.copy()#replace nan age=avg_age\n",
        "train2=users.copy()#replace nan age = algorithm knn"
      ],
      "execution_count": 97,
      "outputs": []
    },
    {
      "cell_type": "markdown",
      "metadata": {
        "id": "8xraijqbTqIn"
      },
      "source": [
        "#  Xử lý trường age\n",
        "- Thay các giá trị age bị nan bằng giá trị age trung bình \n",
        "- Dùng KNN Regression để tìm kiếm các giá trị age nan "
      ]
    },
    {
      "cell_type": "markdown",
      "metadata": {
        "id": "wW96rwfATsm0"
      },
      "source": [
        "1)  Thay bằng giá trị trung bình"
      ]
    },
    {
      "cell_type": "code",
      "metadata": {
        "id": "a49HvNRjTpUl"
      },
      "source": [
        "def cal_avg_age(dataframe):\n",
        "  temp=np.array(dataframe.age.isnull())\n",
        "  age_not_nan=np.where(temp==False)[0]\n",
        "  ages=np.array(dataframe.age)\n",
        "  ages=ages[age_not_nan]\n",
        "  avg_age=np.sum(ages)/len(ages)\n",
        "  return int(round(avg_age))"
      ],
      "execution_count": 98,
      "outputs": []
    },
    {
      "cell_type": "code",
      "metadata": {
        "id": "kZPougugTP8k"
      },
      "source": [
        "avg_age=cal_avg_age(train1)\n",
        "train1.age=train1.age.fillna(avg_age)"
      ],
      "execution_count": 99,
      "outputs": []
    },
    {
      "cell_type": "code",
      "metadata": {
        "id": "zvhCuZ8_T84D"
      },
      "source": [
        "features=['gender','signup_method','signup_flow','language','affiliate_channel','affiliate_provider','first_affiliate_tracked','signup_app','first_device_type','first_browser']"
      ],
      "execution_count": 100,
      "outputs": []
    },
    {
      "cell_type": "code",
      "metadata": {
        "id": "FjDWVr-XUGsB"
      },
      "source": [
        "for feature in features:\n",
        "  ord_encoder=OrdinalEncoder()\n",
        "  train1[feature]=ord_encoder.fit_transform(train1[[feature]])"
      ],
      "execution_count": 101,
      "outputs": []
    },
    {
      "cell_type": "code",
      "metadata": {
        "id": "0aDnt0pqUJ2i",
        "colab": {
          "base_uri": "https://localhost:8080/"
        },
        "outputId": "6d61a057-734c-4706-a1bb-320954154dc4"
      },
      "source": [
        "train_avg=train1[:len(train)]\n",
        "test_avg=train1[len(train):]\n",
        "test_avg.drop('country_destination',axis=1,inplace=True)"
      ],
      "execution_count": 103,
      "outputs": [
        {
          "output_type": "stream",
          "text": [
            "/usr/local/lib/python3.7/dist-packages/pandas/core/frame.py:4174: SettingWithCopyWarning: \n",
            "A value is trying to be set on a copy of a slice from a DataFrame\n",
            "\n",
            "See the caveats in the documentation: https://pandas.pydata.org/pandas-docs/stable/user_guide/indexing.html#returning-a-view-versus-a-copy\n",
            "  errors=errors,\n"
          ],
          "name": "stderr"
        }
      ]
    },
    {
      "cell_type": "code",
      "metadata": {
        "id": "xFSk3NwcUgRM"
      },
      "source": [
        "list_label=set(train_avg.country_destination)\n",
        "t={country:idx for idx,country in enumerate(list_label)}"
      ],
      "execution_count": 104,
      "outputs": []
    },
    {
      "cell_type": "code",
      "metadata": {
        "colab": {
          "base_uri": "https://localhost:8080/"
        },
        "id": "S8piTiLtVYSI",
        "outputId": "80c7ae50-1763-4880-d8d9-214b22e6a86d"
      },
      "source": [
        "t"
      ],
      "execution_count": 105,
      "outputs": [
        {
          "output_type": "execute_result",
          "data": {
            "text/plain": [
              "{'AU': 10,\n",
              " 'CA': 3,\n",
              " 'DE': 2,\n",
              " 'ES': 11,\n",
              " 'FR': 5,\n",
              " 'GB': 1,\n",
              " 'IT': 9,\n",
              " 'NDF': 4,\n",
              " 'NL': 7,\n",
              " 'PT': 6,\n",
              " 'US': 0,\n",
              " 'other': 8}"
            ]
          },
          "metadata": {
            "tags": []
          },
          "execution_count": 105
        }
      ]
    },
    {
      "cell_type": "code",
      "metadata": {
        "colab": {
          "base_uri": "https://localhost:8080/"
        },
        "id": "zFmsOj9OUtDq",
        "outputId": "8e00f0a0-31f8-468d-9a20-31e4f79bf472"
      },
      "source": [
        "train_avg.country_destination=train_avg.country_destination.map(t)"
      ],
      "execution_count": 106,
      "outputs": [
        {
          "output_type": "stream",
          "text": [
            "/usr/local/lib/python3.7/dist-packages/pandas/core/generic.py:5170: SettingWithCopyWarning: \n",
            "A value is trying to be set on a copy of a slice from a DataFrame.\n",
            "Try using .loc[row_indexer,col_indexer] = value instead\n",
            "\n",
            "See the caveats in the documentation: https://pandas.pydata.org/pandas-docs/stable/user_guide/indexing.html#returning-a-view-versus-a-copy\n",
            "  self[name] = value\n"
          ],
          "name": "stderr"
        }
      ]
    },
    {
      "cell_type": "code",
      "metadata": {
        "colab": {
          "base_uri": "https://localhost:8080/",
          "height": 444
        },
        "id": "4zQTtwTnVIQq",
        "outputId": "81af9e92-2248-4473-f614-41d89e506c82"
      },
      "source": [
        "train_avg"
      ],
      "execution_count": 107,
      "outputs": [
        {
          "output_type": "execute_result",
          "data": {
            "text/html": [
              "<div>\n",
              "<style scoped>\n",
              "    .dataframe tbody tr th:only-of-type {\n",
              "        vertical-align: middle;\n",
              "    }\n",
              "\n",
              "    .dataframe tbody tr th {\n",
              "        vertical-align: top;\n",
              "    }\n",
              "\n",
              "    .dataframe thead th {\n",
              "        text-align: right;\n",
              "    }\n",
              "</style>\n",
              "<table border=\"1\" class=\"dataframe\">\n",
              "  <thead>\n",
              "    <tr style=\"text-align: right;\">\n",
              "      <th></th>\n",
              "      <th>gender</th>\n",
              "      <th>age</th>\n",
              "      <th>signup_method</th>\n",
              "      <th>signup_flow</th>\n",
              "      <th>language</th>\n",
              "      <th>affiliate_channel</th>\n",
              "      <th>affiliate_provider</th>\n",
              "      <th>first_affiliate_tracked</th>\n",
              "      <th>signup_app</th>\n",
              "      <th>first_device_type</th>\n",
              "      <th>first_browser</th>\n",
              "      <th>country_destination</th>\n",
              "      <th>dac_month</th>\n",
              "      <th>tfa_month</th>\n",
              "    </tr>\n",
              "  </thead>\n",
              "  <tbody>\n",
              "    <tr>\n",
              "      <th>0</th>\n",
              "      <td>0.0</td>\n",
              "      <td>37.0</td>\n",
              "      <td>1.0</td>\n",
              "      <td>0.0</td>\n",
              "      <td>6.0</td>\n",
              "      <td>2.0</td>\n",
              "      <td>4.0</td>\n",
              "      <td>6.0</td>\n",
              "      <td>2.0</td>\n",
              "      <td>3.0</td>\n",
              "      <td>8.0</td>\n",
              "      <td>4</td>\n",
              "      <td>6</td>\n",
              "      <td>3</td>\n",
              "    </tr>\n",
              "    <tr>\n",
              "      <th>1</th>\n",
              "      <td>2.0</td>\n",
              "      <td>38.0</td>\n",
              "      <td>1.0</td>\n",
              "      <td>0.0</td>\n",
              "      <td>6.0</td>\n",
              "      <td>7.0</td>\n",
              "      <td>8.0</td>\n",
              "      <td>6.0</td>\n",
              "      <td>2.0</td>\n",
              "      <td>3.0</td>\n",
              "      <td>8.0</td>\n",
              "      <td>4</td>\n",
              "      <td>5</td>\n",
              "      <td>5</td>\n",
              "    </tr>\n",
              "    <tr>\n",
              "      <th>2</th>\n",
              "      <td>1.0</td>\n",
              "      <td>56.0</td>\n",
              "      <td>0.0</td>\n",
              "      <td>3.0</td>\n",
              "      <td>6.0</td>\n",
              "      <td>2.0</td>\n",
              "      <td>4.0</td>\n",
              "      <td>6.0</td>\n",
              "      <td>2.0</td>\n",
              "      <td>6.0</td>\n",
              "      <td>22.0</td>\n",
              "      <td>0</td>\n",
              "      <td>9</td>\n",
              "      <td>6</td>\n",
              "    </tr>\n",
              "    <tr>\n",
              "      <th>3</th>\n",
              "      <td>1.0</td>\n",
              "      <td>42.0</td>\n",
              "      <td>1.0</td>\n",
              "      <td>0.0</td>\n",
              "      <td>6.0</td>\n",
              "      <td>2.0</td>\n",
              "      <td>4.0</td>\n",
              "      <td>6.0</td>\n",
              "      <td>2.0</td>\n",
              "      <td>3.0</td>\n",
              "      <td>17.0</td>\n",
              "      <td>8</td>\n",
              "      <td>12</td>\n",
              "      <td>10</td>\n",
              "    </tr>\n",
              "    <tr>\n",
              "      <th>4</th>\n",
              "      <td>0.0</td>\n",
              "      <td>41.0</td>\n",
              "      <td>0.0</td>\n",
              "      <td>0.0</td>\n",
              "      <td>6.0</td>\n",
              "      <td>2.0</td>\n",
              "      <td>4.0</td>\n",
              "      <td>6.0</td>\n",
              "      <td>2.0</td>\n",
              "      <td>3.0</td>\n",
              "      <td>8.0</td>\n",
              "      <td>0</td>\n",
              "      <td>9</td>\n",
              "      <td>12</td>\n",
              "    </tr>\n",
              "    <tr>\n",
              "      <th>...</th>\n",
              "      <td>...</td>\n",
              "      <td>...</td>\n",
              "      <td>...</td>\n",
              "      <td>...</td>\n",
              "      <td>...</td>\n",
              "      <td>...</td>\n",
              "      <td>...</td>\n",
              "      <td>...</td>\n",
              "      <td>...</td>\n",
              "      <td>...</td>\n",
              "      <td>...</td>\n",
              "      <td>...</td>\n",
              "      <td>...</td>\n",
              "      <td>...</td>\n",
              "    </tr>\n",
              "    <tr>\n",
              "      <th>213446</th>\n",
              "      <td>2.0</td>\n",
              "      <td>32.0</td>\n",
              "      <td>0.0</td>\n",
              "      <td>0.0</td>\n",
              "      <td>6.0</td>\n",
              "      <td>5.0</td>\n",
              "      <td>8.0</td>\n",
              "      <td>3.0</td>\n",
              "      <td>2.0</td>\n",
              "      <td>3.0</td>\n",
              "      <td>43.0</td>\n",
              "      <td>4</td>\n",
              "      <td>6</td>\n",
              "      <td>6</td>\n",
              "    </tr>\n",
              "    <tr>\n",
              "      <th>213447</th>\n",
              "      <td>0.0</td>\n",
              "      <td>37.0</td>\n",
              "      <td>0.0</td>\n",
              "      <td>0.0</td>\n",
              "      <td>6.0</td>\n",
              "      <td>2.0</td>\n",
              "      <td>4.0</td>\n",
              "      <td>0.0</td>\n",
              "      <td>2.0</td>\n",
              "      <td>6.0</td>\n",
              "      <td>8.0</td>\n",
              "      <td>4</td>\n",
              "      <td>6</td>\n",
              "      <td>6</td>\n",
              "    </tr>\n",
              "    <tr>\n",
              "      <th>213448</th>\n",
              "      <td>0.0</td>\n",
              "      <td>32.0</td>\n",
              "      <td>0.0</td>\n",
              "      <td>0.0</td>\n",
              "      <td>6.0</td>\n",
              "      <td>2.0</td>\n",
              "      <td>4.0</td>\n",
              "      <td>6.0</td>\n",
              "      <td>2.0</td>\n",
              "      <td>3.0</td>\n",
              "      <td>17.0</td>\n",
              "      <td>4</td>\n",
              "      <td>6</td>\n",
              "      <td>6</td>\n",
              "    </tr>\n",
              "    <tr>\n",
              "      <th>213449</th>\n",
              "      <td>0.0</td>\n",
              "      <td>37.0</td>\n",
              "      <td>0.0</td>\n",
              "      <td>17.0</td>\n",
              "      <td>6.0</td>\n",
              "      <td>3.0</td>\n",
              "      <td>12.0</td>\n",
              "      <td>5.0</td>\n",
              "      <td>3.0</td>\n",
              "      <td>8.0</td>\n",
              "      <td>30.0</td>\n",
              "      <td>4</td>\n",
              "      <td>6</td>\n",
              "      <td>6</td>\n",
              "    </tr>\n",
              "    <tr>\n",
              "      <th>213450</th>\n",
              "      <td>0.0</td>\n",
              "      <td>37.0</td>\n",
              "      <td>0.0</td>\n",
              "      <td>17.0</td>\n",
              "      <td>6.0</td>\n",
              "      <td>2.0</td>\n",
              "      <td>4.0</td>\n",
              "      <td>6.0</td>\n",
              "      <td>3.0</td>\n",
              "      <td>8.0</td>\n",
              "      <td>0.0</td>\n",
              "      <td>4</td>\n",
              "      <td>6</td>\n",
              "      <td>6</td>\n",
              "    </tr>\n",
              "  </tbody>\n",
              "</table>\n",
              "<p>213451 rows × 14 columns</p>\n",
              "</div>"
            ],
            "text/plain": [
              "        gender   age  signup_method  ...  country_destination  dac_month  tfa_month\n",
              "0          0.0  37.0            1.0  ...                    4          6          3\n",
              "1          2.0  38.0            1.0  ...                    4          5          5\n",
              "2          1.0  56.0            0.0  ...                    0          9          6\n",
              "3          1.0  42.0            1.0  ...                    8         12         10\n",
              "4          0.0  41.0            0.0  ...                    0          9         12\n",
              "...        ...   ...            ...  ...                  ...        ...        ...\n",
              "213446     2.0  32.0            0.0  ...                    4          6          6\n",
              "213447     0.0  37.0            0.0  ...                    4          6          6\n",
              "213448     0.0  32.0            0.0  ...                    4          6          6\n",
              "213449     0.0  37.0            0.0  ...                    4          6          6\n",
              "213450     0.0  37.0            0.0  ...                    4          6          6\n",
              "\n",
              "[213451 rows x 14 columns]"
            ]
          },
          "metadata": {
            "tags": []
          },
          "execution_count": 107
        }
      ]
    },
    {
      "cell_type": "code",
      "metadata": {
        "id": "a8zH_WdHMaLA"
      },
      "source": [
        "def split_file(data_frame):\n",
        "  size=len(data_frame)\n",
        "  train_dataframe=data_frame.sample(int(size*0.8))\n",
        "  val_dataframe=data_frame[~data_frame.index.isin(train_dataframe.index)]\n",
        "  return train_dataframe,val_dataframe"
      ],
      "execution_count": 108,
      "outputs": []
    },
    {
      "cell_type": "code",
      "metadata": {
        "id": "cZoxhpTZVUqL"
      },
      "source": [
        "train_avg1=train_avg.sort_index(axis=1)\n",
        "test_avg=test_avg.sort_index(axis=1)\n",
        "train_avg,val_avg=split_file(train_avg1)"
      ],
      "execution_count": 109,
      "outputs": []
    },
    {
      "cell_type": "code",
      "metadata": {
        "colab": {
          "base_uri": "https://localhost:8080/"
        },
        "id": "HQ9rivRZM5Uv",
        "outputId": "2fb98e98-5dcc-402e-86e9-c2650f6698ab"
      },
      "source": [
        "print(train_avg1.shape)\n",
        "print(train_avg.shape)\n",
        "print(val_avg.shape)"
      ],
      "execution_count": 110,
      "outputs": [
        {
          "output_type": "stream",
          "text": [
            "(213451, 14)\n",
            "(170760, 14)\n",
            "(42691, 14)\n"
          ],
          "name": "stdout"
        }
      ]
    },
    {
      "cell_type": "code",
      "metadata": {
        "id": "PEqTJOmlObbj"
      },
      "source": [
        "train_avg.to_csv('train_avg_age.csv',index=False)\n",
        "val_avg.to_csv('val_avg_age.csv',index=False)\n",
        "test_avg.to_csv('test_avg_age.csv',index=False)"
      ],
      "execution_count": 111,
      "outputs": []
    },
    {
      "cell_type": "markdown",
      "metadata": {
        "id": "To7ucKkQVu_2"
      },
      "source": [
        "2) Dùng KNN Regression để tìm kiếm các giá trị age nan "
      ]
    },
    {
      "cell_type": "code",
      "metadata": {
        "id": "tBcstYgyVirA"
      },
      "source": [
        "# Chuyển  sang one-hot \n",
        "def processing_train2(dataframe):\n",
        "  for feature in features:\n",
        "    df_dummy=pd.get_dummies(dataframe[feature],prefix=feature)\n",
        "    dataframe=dataframe.drop(feature,axis=1)\n",
        "    dataframe=pd.concat((dataframe,df_dummy),axis=1)\n",
        "  return dataframe\n",
        "\n",
        "train2=processing_train2(train2)"
      ],
      "execution_count": 112,
      "outputs": []
    },
    {
      "cell_type": "code",
      "metadata": {
        "id": "uNQLwsOpV7VT"
      },
      "source": [
        "train2.age=train2.age.fillna(-1)\n",
        "country=train2.country_destination\n",
        "train2.drop('country_destination',axis=1,inplace=True)\n",
        "train_age=train2[train2.age!=-1]\n",
        "test_age=train2[train2.age==-1]\n",
        "\n",
        "y_train_age=np.asarray(train_age.age)\n",
        "x_train_age=train_age.drop('age',axis=1)\n",
        "\n",
        "x_test_age=test_age.drop('age',axis=1)\n",
        "\n",
        "x_train_age=x_train_age.values\n",
        "x_test_age=x_test_age.values"
      ],
      "execution_count": 113,
      "outputs": []
    },
    {
      "cell_type": "code",
      "metadata": {
        "colab": {
          "base_uri": "https://localhost:8080/"
        },
        "id": "YNgTRhBaV9uF",
        "outputId": "48c67e79-ff1d-4df9-fbe9-1c828ac93909"
      },
      "source": [
        "from sklearn.neighbors import KNeighborsRegressor\n",
        "knn=KNeighborsRegressor(n_neighbors=3)\n",
        "knn.fit(x_train_age,y_train_age)"
      ],
      "execution_count": 114,
      "outputs": [
        {
          "output_type": "execute_result",
          "data": {
            "text/plain": [
              "KNeighborsRegressor(algorithm='auto', leaf_size=30, metric='minkowski',\n",
              "                    metric_params=None, n_jobs=None, n_neighbors=3, p=2,\n",
              "                    weights='uniform')"
            ]
          },
          "metadata": {
            "tags": []
          },
          "execution_count": 114
        }
      ]
    },
    {
      "cell_type": "code",
      "metadata": {
        "id": "08AncaV4WB5y"
      },
      "source": [
        "y_pred=knn.predict(x_test_age)"
      ],
      "execution_count": 115,
      "outputs": []
    },
    {
      "cell_type": "code",
      "metadata": {
        "id": "MLPsm306WFJ9"
      },
      "source": [
        "y_pred=[int(round(value)) for value in y_pred]"
      ],
      "execution_count": 116,
      "outputs": []
    },
    {
      "cell_type": "code",
      "metadata": {
        "id": "2xsZhuNMWIED"
      },
      "source": [
        "drop_column=list(train2.keys())[3:]\n",
        "train2=train2.drop(drop_column,axis=1)\n",
        "train2['country_destination']=country"
      ],
      "execution_count": 117,
      "outputs": []
    },
    {
      "cell_type": "code",
      "metadata": {
        "id": "LrQe34LFWMGQ"
      },
      "source": [
        "for feature in features:\n",
        " train2[feature]=train1[feature]"
      ],
      "execution_count": 118,
      "outputs": []
    },
    {
      "cell_type": "code",
      "metadata": {
        "colab": {
          "base_uri": "https://localhost:8080/",
          "height": 444
        },
        "id": "7MOS8J0rXMNc",
        "outputId": "429e0446-b4d1-4519-a3bd-2039aadb26ba"
      },
      "source": [
        "train2"
      ],
      "execution_count": 120,
      "outputs": [
        {
          "output_type": "execute_result",
          "data": {
            "text/html": [
              "<div>\n",
              "<style scoped>\n",
              "    .dataframe tbody tr th:only-of-type {\n",
              "        vertical-align: middle;\n",
              "    }\n",
              "\n",
              "    .dataframe tbody tr th {\n",
              "        vertical-align: top;\n",
              "    }\n",
              "\n",
              "    .dataframe thead th {\n",
              "        text-align: right;\n",
              "    }\n",
              "</style>\n",
              "<table border=\"1\" class=\"dataframe\">\n",
              "  <thead>\n",
              "    <tr style=\"text-align: right;\">\n",
              "      <th></th>\n",
              "      <th>age</th>\n",
              "      <th>dac_month</th>\n",
              "      <th>tfa_month</th>\n",
              "      <th>country_destination</th>\n",
              "      <th>gender</th>\n",
              "      <th>signup_method</th>\n",
              "      <th>signup_flow</th>\n",
              "      <th>language</th>\n",
              "      <th>affiliate_channel</th>\n",
              "      <th>affiliate_provider</th>\n",
              "      <th>first_affiliate_tracked</th>\n",
              "      <th>signup_app</th>\n",
              "      <th>first_device_type</th>\n",
              "      <th>first_browser</th>\n",
              "    </tr>\n",
              "  </thead>\n",
              "  <tbody>\n",
              "    <tr>\n",
              "      <th>0</th>\n",
              "      <td>-1.0</td>\n",
              "      <td>6</td>\n",
              "      <td>3</td>\n",
              "      <td>NDF</td>\n",
              "      <td>0.0</td>\n",
              "      <td>1.0</td>\n",
              "      <td>0.0</td>\n",
              "      <td>6.0</td>\n",
              "      <td>2.0</td>\n",
              "      <td>4.0</td>\n",
              "      <td>6.0</td>\n",
              "      <td>2.0</td>\n",
              "      <td>3.0</td>\n",
              "      <td>8.0</td>\n",
              "    </tr>\n",
              "    <tr>\n",
              "      <th>1</th>\n",
              "      <td>38.0</td>\n",
              "      <td>5</td>\n",
              "      <td>5</td>\n",
              "      <td>NDF</td>\n",
              "      <td>2.0</td>\n",
              "      <td>1.0</td>\n",
              "      <td>0.0</td>\n",
              "      <td>6.0</td>\n",
              "      <td>7.0</td>\n",
              "      <td>8.0</td>\n",
              "      <td>6.0</td>\n",
              "      <td>2.0</td>\n",
              "      <td>3.0</td>\n",
              "      <td>8.0</td>\n",
              "    </tr>\n",
              "    <tr>\n",
              "      <th>2</th>\n",
              "      <td>56.0</td>\n",
              "      <td>9</td>\n",
              "      <td>6</td>\n",
              "      <td>US</td>\n",
              "      <td>1.0</td>\n",
              "      <td>0.0</td>\n",
              "      <td>3.0</td>\n",
              "      <td>6.0</td>\n",
              "      <td>2.0</td>\n",
              "      <td>4.0</td>\n",
              "      <td>6.0</td>\n",
              "      <td>2.0</td>\n",
              "      <td>6.0</td>\n",
              "      <td>22.0</td>\n",
              "    </tr>\n",
              "    <tr>\n",
              "      <th>3</th>\n",
              "      <td>42.0</td>\n",
              "      <td>12</td>\n",
              "      <td>10</td>\n",
              "      <td>other</td>\n",
              "      <td>1.0</td>\n",
              "      <td>1.0</td>\n",
              "      <td>0.0</td>\n",
              "      <td>6.0</td>\n",
              "      <td>2.0</td>\n",
              "      <td>4.0</td>\n",
              "      <td>6.0</td>\n",
              "      <td>2.0</td>\n",
              "      <td>3.0</td>\n",
              "      <td>17.0</td>\n",
              "    </tr>\n",
              "    <tr>\n",
              "      <th>4</th>\n",
              "      <td>41.0</td>\n",
              "      <td>9</td>\n",
              "      <td>12</td>\n",
              "      <td>US</td>\n",
              "      <td>0.0</td>\n",
              "      <td>0.0</td>\n",
              "      <td>0.0</td>\n",
              "      <td>6.0</td>\n",
              "      <td>2.0</td>\n",
              "      <td>4.0</td>\n",
              "      <td>6.0</td>\n",
              "      <td>2.0</td>\n",
              "      <td>3.0</td>\n",
              "      <td>8.0</td>\n",
              "    </tr>\n",
              "    <tr>\n",
              "      <th>...</th>\n",
              "      <td>...</td>\n",
              "      <td>...</td>\n",
              "      <td>...</td>\n",
              "      <td>...</td>\n",
              "      <td>...</td>\n",
              "      <td>...</td>\n",
              "      <td>...</td>\n",
              "      <td>...</td>\n",
              "      <td>...</td>\n",
              "      <td>...</td>\n",
              "      <td>...</td>\n",
              "      <td>...</td>\n",
              "      <td>...</td>\n",
              "      <td>...</td>\n",
              "    </tr>\n",
              "    <tr>\n",
              "      <th>62091</th>\n",
              "      <td>31.0</td>\n",
              "      <td>9</td>\n",
              "      <td>9</td>\n",
              "      <td>NaN</td>\n",
              "      <td>0.0</td>\n",
              "      <td>0.0</td>\n",
              "      <td>0.0</td>\n",
              "      <td>6.0</td>\n",
              "      <td>2.0</td>\n",
              "      <td>4.0</td>\n",
              "      <td>6.0</td>\n",
              "      <td>2.0</td>\n",
              "      <td>6.0</td>\n",
              "      <td>22.0</td>\n",
              "    </tr>\n",
              "    <tr>\n",
              "      <th>62092</th>\n",
              "      <td>-1.0</td>\n",
              "      <td>9</td>\n",
              "      <td>9</td>\n",
              "      <td>NaN</td>\n",
              "      <td>0.0</td>\n",
              "      <td>0.0</td>\n",
              "      <td>15.0</td>\n",
              "      <td>16.0</td>\n",
              "      <td>2.0</td>\n",
              "      <td>4.0</td>\n",
              "      <td>6.0</td>\n",
              "      <td>0.0</td>\n",
              "      <td>0.0</td>\n",
              "      <td>0.0</td>\n",
              "    </tr>\n",
              "    <tr>\n",
              "      <th>62093</th>\n",
              "      <td>-1.0</td>\n",
              "      <td>9</td>\n",
              "      <td>9</td>\n",
              "      <td>NaN</td>\n",
              "      <td>0.0</td>\n",
              "      <td>0.0</td>\n",
              "      <td>0.0</td>\n",
              "      <td>4.0</td>\n",
              "      <td>2.0</td>\n",
              "      <td>4.0</td>\n",
              "      <td>0.0</td>\n",
              "      <td>2.0</td>\n",
              "      <td>6.0</td>\n",
              "      <td>17.0</td>\n",
              "    </tr>\n",
              "    <tr>\n",
              "      <th>62094</th>\n",
              "      <td>-1.0</td>\n",
              "      <td>9</td>\n",
              "      <td>9</td>\n",
              "      <td>NaN</td>\n",
              "      <td>0.0</td>\n",
              "      <td>0.0</td>\n",
              "      <td>0.0</td>\n",
              "      <td>6.0</td>\n",
              "      <td>5.0</td>\n",
              "      <td>8.0</td>\n",
              "      <td>3.0</td>\n",
              "      <td>2.0</td>\n",
              "      <td>3.0</td>\n",
              "      <td>43.0</td>\n",
              "    </tr>\n",
              "    <tr>\n",
              "      <th>62095</th>\n",
              "      <td>49.0</td>\n",
              "      <td>9</td>\n",
              "      <td>9</td>\n",
              "      <td>NaN</td>\n",
              "      <td>1.0</td>\n",
              "      <td>0.0</td>\n",
              "      <td>0.0</td>\n",
              "      <td>6.0</td>\n",
              "      <td>3.0</td>\n",
              "      <td>12.0</td>\n",
              "      <td>5.0</td>\n",
              "      <td>2.0</td>\n",
              "      <td>6.0</td>\n",
              "      <td>8.0</td>\n",
              "    </tr>\n",
              "  </tbody>\n",
              "</table>\n",
              "<p>275547 rows × 14 columns</p>\n",
              "</div>"
            ],
            "text/plain": [
              "        age  dac_month  tfa_month  ... signup_app  first_device_type  first_browser\n",
              "0      -1.0          6          3  ...        2.0                3.0            8.0\n",
              "1      38.0          5          5  ...        2.0                3.0            8.0\n",
              "2      56.0          9          6  ...        2.0                6.0           22.0\n",
              "3      42.0         12         10  ...        2.0                3.0           17.0\n",
              "4      41.0          9         12  ...        2.0                3.0            8.0\n",
              "...     ...        ...        ...  ...        ...                ...            ...\n",
              "62091  31.0          9          9  ...        2.0                6.0           22.0\n",
              "62092  -1.0          9          9  ...        0.0                0.0            0.0\n",
              "62093  -1.0          9          9  ...        2.0                6.0           17.0\n",
              "62094  -1.0          9          9  ...        2.0                3.0           43.0\n",
              "62095  49.0          9          9  ...        2.0                6.0            8.0\n",
              "\n",
              "[275547 rows x 14 columns]"
            ]
          },
          "metadata": {
            "tags": []
          },
          "execution_count": 120
        }
      ]
    },
    {
      "cell_type": "code",
      "metadata": {
        "id": "yAnnqyDBXZDV",
        "colab": {
          "base_uri": "https://localhost:8080/"
        },
        "outputId": "03e1d7f8-c607-403a-e484-729f650c083e"
      },
      "source": [
        "train_knn=train2[:len(train)]\n",
        "test_knn=train2[len(train):]\n",
        "test_knn.drop('country_destination',axis=1,inplace=True)"
      ],
      "execution_count": 121,
      "outputs": [
        {
          "output_type": "stream",
          "text": [
            "/usr/local/lib/python3.7/dist-packages/pandas/core/frame.py:4174: SettingWithCopyWarning: \n",
            "A value is trying to be set on a copy of a slice from a DataFrame\n",
            "\n",
            "See the caveats in the documentation: https://pandas.pydata.org/pandas-docs/stable/user_guide/indexing.html#returning-a-view-versus-a-copy\n",
            "  errors=errors,\n"
          ],
          "name": "stderr"
        }
      ]
    },
    {
      "cell_type": "code",
      "metadata": {
        "id": "GW90w6yGXi41",
        "colab": {
          "base_uri": "https://localhost:8080/"
        },
        "outputId": "80d3c744-1a23-4a83-aa2c-8afe23467ef1"
      },
      "source": [
        "train_knn.country_destination=train_knn.country_destination.map(t)"
      ],
      "execution_count": 122,
      "outputs": [
        {
          "output_type": "stream",
          "text": [
            "/usr/local/lib/python3.7/dist-packages/pandas/core/generic.py:5170: SettingWithCopyWarning: \n",
            "A value is trying to be set on a copy of a slice from a DataFrame.\n",
            "Try using .loc[row_indexer,col_indexer] = value instead\n",
            "\n",
            "See the caveats in the documentation: https://pandas.pydata.org/pandas-docs/stable/user_guide/indexing.html#returning-a-view-versus-a-copy\n",
            "  self[name] = value\n"
          ],
          "name": "stderr"
        }
      ]
    },
    {
      "cell_type": "code",
      "metadata": {
        "id": "L4aNtAqkXvGH"
      },
      "source": [
        "train_knn1=train_knn.sort_index(axis=1)\n",
        "test_knn=test_knn.sort_index(axis=1)\n",
        "train_knn,val_knn=split_file(train_knn1)"
      ],
      "execution_count": 123,
      "outputs": []
    },
    {
      "cell_type": "code",
      "metadata": {
        "id": "JWbViEmYPB7E"
      },
      "source": [
        "train_knn.to_csv('train_knn_age.csv',index=False)\n",
        "val_knn.to_csv('val_knn_age.csv',index=False)\n",
        "test_knn.to_csv('test_knn_age.csv',index=False)"
      ],
      "execution_count": 124,
      "outputs": []
    },
    {
      "cell_type": "code",
      "metadata": {
        "id": "8fHQ2OuvPzFn"
      },
      "source": [
        ""
      ],
      "execution_count": null,
      "outputs": []
    }
  ]
}