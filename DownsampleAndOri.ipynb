{
  "nbformat": 4,
  "nbformat_minor": 0,
  "metadata": {
    "colab": {
      "name": "Untitled39.ipynb",
      "provenance": [],
      "collapsed_sections": []
    },
    "kernelspec": {
      "name": "python3",
      "display_name": "Python 3"
    },
    "language_info": {
      "name": "python"
    },
    "accelerator": "GPU"
  },
  "cells": [
    {
      "cell_type": "code",
      "metadata": {
        "id": "j4f9oz3jmgkb"
      },
      "source": [
        "import pandas as pd \n",
        "import seaborn as sns \n",
        "from xgboost.sklearn import XGBClassifier\n",
        "import numpy as np\n",
        "import math\n",
        "from matplotlib import pyplot as plt "
      ],
      "execution_count": 32,
      "outputs": []
    },
    {
      "cell_type": "code",
      "metadata": {
        "id": "b4uenWmtm1Ht"
      },
      "source": [
        "train1=pd.read_csv('train_avg_age.csv')\n",
        "test1=pd.read_csv('test_avg_age.csv')\n",
        "val1=pd.read_csv('val_avg_age.csv')"
      ],
      "execution_count": 105,
      "outputs": []
    },
    {
      "cell_type": "code",
      "metadata": {
        "id": "d5ulkvHZnJmm"
      },
      "source": [
        "train2=pd.read_csv('train_knn_age.csv')\n",
        "test2=pd.read_csv('test_knn_age.csv')\n",
        "val2=pd.read_csv('val_knn_age.csv')"
      ],
      "execution_count": 106,
      "outputs": []
    },
    {
      "cell_type": "code",
      "metadata": {
        "colab": {
          "base_uri": "https://localhost:8080/",
          "height": 351
        },
        "id": "IdgByptCyNFU",
        "outputId": "60a654dc-ef0b-4749-ed72-9e0e842acb11"
      },
      "source": [
        "sns.countplot(val1.country_destination)"
      ],
      "execution_count": 107,
      "outputs": [
        {
          "output_type": "stream",
          "text": [
            "/usr/local/lib/python3.7/dist-packages/seaborn/_decorators.py:43: FutureWarning: Pass the following variable as a keyword arg: x. From version 0.12, the only valid positional argument will be `data`, and passing other arguments without an explicit keyword will result in an error or misinterpretation.\n",
            "  FutureWarning\n"
          ],
          "name": "stderr"
        },
        {
          "output_type": "execute_result",
          "data": {
            "text/plain": [
              "<matplotlib.axes._subplots.AxesSubplot at 0x7fceb3b6b9d0>"
            ]
          },
          "metadata": {
            "tags": []
          },
          "execution_count": 107
        },
        {
          "output_type": "display_data",
          "data": {
            "image/png": "[encoded data removed]",
            "text/plain": [
              "<Figure size 432x288 with 1 Axes>"
            ]
          },
          "metadata": {
            "tags": [],
            "needs_background": "light"
          }
        }
      ]
    },
    {
      "cell_type": "code",
      "metadata": {
        "colab": {
          "base_uri": "https://localhost:8080/",
          "height": 351
        },
        "id": "9ldcV4a-yRv8",
        "outputId": "ae5ff7a2-0a81-4d94-a81e-bd1a49679fb7"
      },
      "source": [
        "sns.countplot(val2.country_destination)"
      ],
      "execution_count": 108,
      "outputs": [
        {
          "output_type": "stream",
          "text": [
            "/usr/local/lib/python3.7/dist-packages/seaborn/_decorators.py:43: FutureWarning: Pass the following variable as a keyword arg: x. From version 0.12, the only valid positional argument will be `data`, and passing other arguments without an explicit keyword will result in an error or misinterpretation.\n",
            "  FutureWarning\n"
          ],
          "name": "stderr"
        },
        {
          "output_type": "execute_result",
          "data": {
            "text/plain": [
              "<matplotlib.axes._subplots.AxesSubplot at 0x7fced04525d0>"
            ]
          },
          "metadata": {
            "tags": []
          },
          "execution_count": 108
        },
        {
          "output_type": "display_data",
          "data": {
            "image/png": "[encoded data removed]",
            "text/plain": [
              "<Figure size 432x288 with 1 Axes>"
            ]
          },
          "metadata": {
            "tags": [],
            "needs_background": "light"
          }
        }
      ]
    },
    {
      "cell_type": "code",
      "metadata": {
        "id": "wwYjJaWTpIOE"
      },
      "source": [
        "def ndcg(index):\n",
        "  return 1/math.log2(index+2)"
      ],
      "execution_count": 109,
      "outputs": []
    },
    {
      "cell_type": "code",
      "metadata": {
        "id": "AvYHLHO3nRqY"
      },
      "source": [
        "def cal_ndcg(preds,labels):\n",
        "  size=len(labels)\n",
        "  ndcg_score=0\n",
        "  cnt=0\n",
        "  for i in range(size):\n",
        "    index=np.where(preds[i,:]==labels[i])[0]\n",
        "    if len(index)==0:\n",
        "      continue\n",
        "    cnt+=1\n",
        "    index=index[0]\n",
        "    ndcg_score+=ndcg(index)\n",
        "  return ndcg_score/size"
      ],
      "execution_count": 110,
      "outputs": []
    },
    {
      "cell_type": "code",
      "metadata": {
        "id": "TI3Me6L-rjge"
      },
      "source": [
        "country={'AU': 3, 'CA': 9, 'DE': 2, 'ES': 8, 'FR': 6, 'GB': 7, 'IT': 1, 'NDF': 11, 'NL': 10, 'PT': 5, 'US': 4, 'other': 0}\n",
        "int_to_country={value:con for con,value in country.items()}"
      ],
      "execution_count": 111,
      "outputs": []
    },
    {
      "cell_type": "markdown",
      "metadata": {
        "id": "dceChthAakrR"
      },
      "source": [
        "# Downsampling"
      ]
    },
    {
      "cell_type": "code",
      "metadata": {
        "id": "uGByU4fsrovt"
      },
      "source": [
        "def down_sampling(dataframe):\n",
        "  dataframe_temp=dataframe[~dataframe.country_destination.isin([11,4])]\n",
        "  dataframe_NDF=dataframe[dataframe.country_destination==11]\n",
        "  dataframe_US=dataframe[dataframe.country_destination==4]\n",
        "  subtrain_ndf=dataframe_NDF.sample(10000,random_state=42)\n",
        "  subtrain_us=dataframe_US.sample(10000,random_state=42)\n",
        "  data=pd.concat((dataframe_temp,subtrain_ndf,subtrain_us),axis=0)\n",
        "  sns.countplot(data.country_destination)\n",
        "  return data"
      ],
      "execution_count": 112,
      "outputs": []
    },
    {
      "cell_type": "code",
      "metadata": {
        "colab": {
          "base_uri": "https://localhost:8080/",
          "height": 334
        },
        "id": "ds1b2t5HsxPs",
        "outputId": "06242760-b5db-408d-9fd3-babb25b1c864"
      },
      "source": [
        "train_avg_sub=down_sampling(train1)"
      ],
      "execution_count": 113,
      "outputs": [
        {
          "output_type": "stream",
          "text": [
            "/usr/local/lib/python3.7/dist-packages/seaborn/_decorators.py:43: FutureWarning: Pass the following variable as a keyword arg: x. From version 0.12, the only valid positional argument will be `data`, and passing other arguments without an explicit keyword will result in an error or misinterpretation.\n",
            "  FutureWarning\n"
          ],
          "name": "stderr"
        },
        {
          "output_type": "display_data",
          "data": {
            "image/png": "[encoded data removed]",
            "text/plain": [
              "<Figure size 432x288 with 1 Axes>"
            ]
          },
          "metadata": {
            "tags": [],
            "needs_background": "light"
          }
        }
      ]
    },
    {
      "cell_type": "code",
      "metadata": {
        "colab": {
          "base_uri": "https://localhost:8080/",
          "height": 334
        },
        "id": "dnZdo-jDbBcI",
        "outputId": "cb59751a-37ec-4035-f16d-8f9215b93d2e"
      },
      "source": [
        "train_knn_sub=down_sampling(train2)"
      ],
      "execution_count": 114,
      "outputs": [
        {
          "output_type": "stream",
          "text": [
            "/usr/local/lib/python3.7/dist-packages/seaborn/_decorators.py:43: FutureWarning: Pass the following variable as a keyword arg: x. From version 0.12, the only valid positional argument will be `data`, and passing other arguments without an explicit keyword will result in an error or misinterpretation.\n",
            "  FutureWarning\n"
          ],
          "name": "stderr"
        },
        {
          "output_type": "display_data",
          "data": {
            "image/png": "[encoded data removed]",
            "text/plain": [
              "<Figure size 432x288 with 1 Axes>"
            ]
          },
          "metadata": {
            "tags": [],
            "needs_background": "light"
          }
        }
      ]
    },
    {
      "cell_type": "code",
      "metadata": {
        "id": "0Q5_syMps1n2"
      },
      "source": [
        "id_test=test1.id\n",
        "test1.drop('id',axis=1,inplace=True)"
      ],
      "execution_count": 115,
      "outputs": []
    },
    {
      "cell_type": "code",
      "metadata": {
        "id": "bjUw6kpYmmyL"
      },
      "source": [
        "test2.drop('id',axis=1,inplace=True)"
      ],
      "execution_count": 116,
      "outputs": []
    },
    {
      "cell_type": "code",
      "metadata": {
        "id": "xWijQ2hntMya"
      },
      "source": [
        "def get_value(data_train,data_test,data_val):\n",
        "  y_train=data_train.country_destination.values\n",
        "  y_val=data_val.country_destination.values\n",
        "  data_val.drop('country_destination',axis=1,inplace=True)\n",
        "  data_train.drop('country_destination',axis=1,inplace=True)\n",
        "  x_train=data_train.values\n",
        "  x_test=data_test.values\n",
        "  x_val=data_val.values\n",
        "  return x_train,y_train,x_val,y_val,x_test"
      ],
      "execution_count": 117,
      "outputs": []
    },
    {
      "cell_type": "code",
      "metadata": {
        "id": "dVNAnIxcD2ex"
      },
      "source": [
        "def submit(model,x_test,file_name):\n",
        "  ids=[]\n",
        "  cts=[]\n",
        "  y_preds=model.predict_proba(x_test)\n",
        "  for i in range(len(x_test)):\n",
        "    idx=id_test[i]\n",
        "    ids+=[idx]*5\n",
        "    temp=np.argsort(y_preds[i])[::-1][:5].tolist()\n",
        "    for value in temp:\n",
        "      cts.append(int_to_country[value])\n",
        "  sub=pd.DataFrame(np.column_stack((ids,cts)),columns=['id','country'])\n",
        "  sub.to_csv(file_name,index=False)"
      ],
      "execution_count": 118,
      "outputs": []
    },
    {
      "cell_type": "code",
      "metadata": {
        "id": "OAY2DlsMZyS2"
      },
      "source": [
        "lr=[0.005,0.01,0.05,0.1,0.15,0.2]"
      ],
      "execution_count": 119,
      "outputs": []
    },
    {
      "cell_type": "code",
      "metadata": {
        "id": "MARjjVnDrFa7"
      },
      "source": [
        "!rm sub*\n",
        "!rm lr*"
      ],
      "execution_count": null,
      "outputs": []
    },
    {
      "cell_type": "markdown",
      "metadata": {
        "id": "lXu2joFEtoAf"
      },
      "source": [
        "1) Xgboost with avg_age"
      ]
    },
    {
      "cell_type": "code",
      "metadata": {
        "id": "gU7r1KPhfO6C"
      },
      "source": [
        "x_train1,y_train1,x_val1,y_val1,x_test1=get_value(train_avg_sub,test1.copy(),val1.copy())"
      ],
      "execution_count": 120,
      "outputs": []
    },
    {
      "cell_type": "code",
      "metadata": {
        "id": "94ZTCg4dtlLd"
      },
      "source": [
        "def tuning_param(x_train,y_train,x_val,y_val,x_test,index,file_name):\n",
        "  xgb=XGBClassifier(max_depth=10,learning_rate=lr[index],n_entimators=100,objective='multi:softprob',subsample=0.5,colsample_bytree=0.5,seed=43)\n",
        "  xgb.fit(x_train,y_train)\n",
        "  y_preds1=xgb.predict_proba(x_val)\n",
        "  preds_down=np.argsort(y_preds1,axis=1)[:,-5:]\n",
        "  preds_down=np.fliplr(preds_down)\n",
        "  score=cal_ndcg(preds_down,y_val)\n",
        "  submit(xgb,x_test,file_name+\"_lr_\"+str(lr[index])+'.csv')\n",
        "  return score"
      ],
      "execution_count": 121,
      "outputs": []
    },
    {
      "cell_type": "code",
      "metadata": {
        "id": "-ljQgvN5bnBF"
      },
      "source": [
        "def run(x_train,y_train,x_val,y_val,x_test,s):\n",
        "  history_score=[]\n",
        "  for i in range(len(lr)):\n",
        "    score=tuning_param(x_train,y_train,x_val,y_val,x_test,i,'submmit_'+s)\n",
        "    history_score.append(score)\n",
        "    print(score)\n",
        "\n",
        "  plt.plot(lr,history_score)\n",
        "  plt.show()\n",
        "  plt.savefig(f'lr_{s}.png')"
      ],
      "execution_count": 122,
      "outputs": []
    },
    {
      "cell_type": "code",
      "metadata": {
        "colab": {
          "base_uri": "https://localhost:8080/",
          "height": 385
        },
        "id": "NPtqyl1jglnS",
        "outputId": "af6a0a7b-d25c-4ab3-d601-57ed4d12c7c8"
      },
      "source": [
        "run(x_train1,y_train1,x_val1,y_val1,x_test1,'avg')"
      ],
      "execution_count": 123,
      "outputs": [
        {
          "output_type": "stream",
          "text": [
            "0.7885386591320427\n",
            "0.7872709484099271\n",
            "0.7782334902458473\n",
            "0.7664009923978942\n",
            "0.7557469786008293\n",
            "0.7466975159605366\n"
          ],
          "name": "stdout"
        },
        {
          "output_type": "display_data",
          "data": {
            "image/png": "[encoded data removed]",
            "text/plain": [
              "<Figure size 432x288 with 1 Axes>"
            ]
          },
          "metadata": {
            "tags": [],
            "needs_background": "light"
          }
        },
        {
          "output_type": "display_data",
          "data": {
            "text/plain": [
              "<Figure size 432x288 with 0 Axes>"
            ]
          },
          "metadata": {
            "tags": []
          }
        }
      ]
    },
    {
      "cell_type": "markdown",
      "metadata": {
        "id": "H9xQwG2ec_M-"
      },
      "source": [
        "2) knn age"
      ]
    },
    {
      "cell_type": "code",
      "metadata": {
        "id": "D_zbhqjXbnGw"
      },
      "source": [
        "x_train2,y_train2,x_val2,y_val2,x_test2=get_value(train_knn_sub,test2.copy(),val2.copy())"
      ],
      "execution_count": 124,
      "outputs": []
    },
    {
      "cell_type": "code",
      "metadata": {
        "colab": {
          "base_uri": "https://localhost:8080/",
          "height": 384
        },
        "id": "qpea6RlEhSbt",
        "outputId": "02229fdc-7cbe-45c1-b59c-e04887528ab7"
      },
      "source": [
        "run(x_train2,y_train2,x_val2,y_val2,x_test2,'knn')"
      ],
      "execution_count": 125,
      "outputs": [
        {
          "output_type": "stream",
          "text": [
            "0.7865330708098152\n",
            "0.7849522440395275\n",
            "0.7758824685181545\n",
            "0.7633833676486199\n",
            "0.7523316005652906\n",
            "0.7443413126340285\n"
          ],
          "name": "stdout"
        },
        {
          "output_type": "display_data",
          "data": {
            "image/png": "[encoded data removed]",
            "text/plain": [
              "<Figure size 432x288 with 1 Axes>"
            ]
          },
          "metadata": {
            "tags": [],
            "needs_background": "light"
          }
        },
        {
          "output_type": "display_data",
          "data": {
            "text/plain": [
              "<Figure size 432x288 with 0 Axes>"
            ]
          },
          "metadata": {
            "tags": []
          }
        }
      ]
    },
    {
      "cell_type": "markdown",
      "metadata": {
        "id": "XcHM6kISc8jC"
      },
      "source": [
        "# Data original"
      ]
    },
    {
      "cell_type": "code",
      "metadata": {
        "id": "tCjU_2Z8DIUP",
        "colab": {
          "base_uri": "https://localhost:8080/",
          "height": 384
        },
        "outputId": "f3ba1285-512a-4bcd-c789-987321efb4bc"
      },
      "source": [
        "x_train,y_train,x_val,y_val,x_test=get_value(train1.copy(),test1.copy(),val1.copy())\n",
        "run(x_train,y_train,x_val,y_val,x_test,'avg_ori')"
      ],
      "execution_count": 127,
      "outputs": [
        {
          "output_type": "stream",
          "text": [
            "0.8232738249987241\n",
            "0.8251862205951613\n",
            "0.8283418920002229\n",
            "0.8278229305993968\n",
            "0.8271431257944282\n",
            "0.8256797083292625\n"
          ],
          "name": "stdout"
        },
        {
          "output_type": "display_data",
          "data": {
            "image/png": "[encoded data removed]",
            "text/plain": [
              "<Figure size 432x288 with 1 Axes>"
            ]
          },
          "metadata": {
            "tags": [],
            "needs_background": "light"
          }
        },
        {
          "output_type": "display_data",
          "data": {
            "text/plain": [
              "<Figure size 432x288 with 0 Axes>"
            ]
          },
          "metadata": {
            "tags": []
          }
        }
      ]
    },
    {
      "cell_type": "code",
      "metadata": {
        "colab": {
          "base_uri": "https://localhost:8080/",
          "height": 384
        },
        "id": "3fiOfq3RrgLC",
        "outputId": "b400a16b-5b50-4279-ee00-0ef6872d5b7f"
      },
      "source": [
        "x_train_k,y_train_k,x_val_k,y_val_k,x_test_k=get_value(train2.copy(),test2.copy(),val2.copy())\n",
        "run(x_train_k,y_train_k,x_val_k,y_val_k,x_test_k,'knn_ori')"
      ],
      "execution_count": 128,
      "outputs": [
        {
          "output_type": "stream",
          "text": [
            "0.8188990363822678\n",
            "0.821217115172219\n",
            "0.8240916631648533\n",
            "0.8243537237978218\n",
            "0.8232612621806381\n",
            "0.8215124119681628\n"
          ],
          "name": "stdout"
        },
        {
          "output_type": "display_data",
          "data": {
            "image/png": "[encoded data removed]",
            "text/plain": [
              "<Figure size 432x288 with 1 Axes>"
            ]
          },
          "metadata": {
            "tags": [],
            "needs_background": "light"
          }
        },
        {
          "output_type": "display_data",
          "data": {
            "text/plain": [
              "<Figure size 432x288 with 0 Axes>"
            ]
          },
          "metadata": {
            "tags": []
          }
        }
      ]
    },
    {
      "cell_type": "code",
      "metadata": {
        "id": "r8EwGdWJvE3-"
      },
      "source": [
        ""
      ],
      "execution_count": null,
      "outputs": []
    }
  ]
}